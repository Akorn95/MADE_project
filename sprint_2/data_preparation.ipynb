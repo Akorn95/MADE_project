{
 "cells": [
  {
   "cell_type": "code",
   "execution_count": 1,
   "id": "5eb868d1",
   "metadata": {},
   "outputs": [],
   "source": [
    "import pandas as pd\n",
    "import numpy as np"
   ]
  },
  {
   "cell_type": "code",
   "execution_count": 2,
   "id": "3abe98e4",
   "metadata": {
    "scrolled": true
   },
   "outputs": [],
   "source": [
    "data = pd.read_csv(\"main_table.csv\", low_memory=False)\n",
    "data=data[['_id', 'title']]\n",
    "\n"
   ]
  },
  {
   "cell_type": "code",
   "execution_count": 3,
   "id": "9dc59cd0",
   "metadata": {},
   "outputs": [],
   "source": [
    "abstract=pd.read_csv(\"db_abstract.csv\", low_memory=False)"
   ]
  },
  {
   "cell_type": "code",
   "execution_count": 4,
   "id": "a7efa999",
   "metadata": {},
   "outputs": [],
   "source": [
    "data=data.join(abstract.set_index('_id'), on='_id', how='left')"
   ]
  },
  {
   "cell_type": "code",
   "execution_count": 5,
   "id": "4439bf0f",
   "metadata": {},
   "outputs": [],
   "source": [
    "data.replace(to_replace=np.nan, value='', inplace=True)"
   ]
  },
  {
   "cell_type": "code",
   "execution_count": 6,
   "id": "edf245b5",
   "metadata": {},
   "outputs": [],
   "source": [
    "data['text'] = data['title']+ ' ' + data['abstract']"
   ]
  },
  {
   "cell_type": "code",
   "execution_count": 7,
   "id": "f0e61c4f",
   "metadata": {},
   "outputs": [
    {
     "data": {
      "text/html": [
       "<div>\n",
       "<style scoped>\n",
       "    .dataframe tbody tr th:only-of-type {\n",
       "        vertical-align: middle;\n",
       "    }\n",
       "\n",
       "    .dataframe tbody tr th {\n",
       "        vertical-align: top;\n",
       "    }\n",
       "\n",
       "    .dataframe thead th {\n",
       "        text-align: right;\n",
       "    }\n",
       "</style>\n",
       "<table border=\"1\" class=\"dataframe\">\n",
       "  <thead>\n",
       "    <tr style=\"text-align: right;\">\n",
       "      <th></th>\n",
       "      <th>_id</th>\n",
       "      <th>title</th>\n",
       "      <th>abstract</th>\n",
       "      <th>text</th>\n",
       "    </tr>\n",
       "  </thead>\n",
       "  <tbody>\n",
       "    <tr>\n",
       "      <th>0</th>\n",
       "      <td>53e99784b7602d9701f3e3f5</td>\n",
       "      <td>3GIO.</td>\n",
       "      <td></td>\n",
       "      <td>3GIO.</td>\n",
       "    </tr>\n",
       "    <tr>\n",
       "      <th>1</th>\n",
       "      <td>53e99784b7602d9701f3e133</td>\n",
       "      <td>The relationship between canopy parameters and...</td>\n",
       "      <td>Drought is the first place in all the natural ...</td>\n",
       "      <td>The relationship between canopy parameters and...</td>\n",
       "    </tr>\n",
       "    <tr>\n",
       "      <th>2</th>\n",
       "      <td>53e99784b7602d9701f3e151</td>\n",
       "      <td>A solution to the problem of touching and brok...</td>\n",
       "      <td></td>\n",
       "      <td>A solution to the problem of touching and brok...</td>\n",
       "    </tr>\n",
       "    <tr>\n",
       "      <th>3</th>\n",
       "      <td>53e99784b7602d9701f3e15d</td>\n",
       "      <td>Timing yield estimation using statistical stat...</td>\n",
       "      <td>As process variations become a significant pro...</td>\n",
       "      <td>Timing yield estimation using statistical stat...</td>\n",
       "    </tr>\n",
       "    <tr>\n",
       "      <th>4</th>\n",
       "      <td>53e99784b7602d9701f3e161</td>\n",
       "      <td>360°</td>\n",
       "      <td>360° represents the concerns that are addresse...</td>\n",
       "      <td>360° 360° represents the concerns that are add...</td>\n",
       "    </tr>\n",
       "  </tbody>\n",
       "</table>\n",
       "</div>"
      ],
      "text/plain": [
       "                        _id  \\\n",
       "0  53e99784b7602d9701f3e3f5   \n",
       "1  53e99784b7602d9701f3e133   \n",
       "2  53e99784b7602d9701f3e151   \n",
       "3  53e99784b7602d9701f3e15d   \n",
       "4  53e99784b7602d9701f3e161   \n",
       "\n",
       "                                               title  \\\n",
       "0                                              3GIO.   \n",
       "1  The relationship between canopy parameters and...   \n",
       "2  A solution to the problem of touching and brok...   \n",
       "3  Timing yield estimation using statistical stat...   \n",
       "4                                               360°   \n",
       "\n",
       "                                            abstract  \\\n",
       "0                                                      \n",
       "1  Drought is the first place in all the natural ...   \n",
       "2                                                      \n",
       "3  As process variations become a significant pro...   \n",
       "4  360° represents the concerns that are addresse...   \n",
       "\n",
       "                                                text  \n",
       "0                                             3GIO.   \n",
       "1  The relationship between canopy parameters and...  \n",
       "2  A solution to the problem of touching and brok...  \n",
       "3  Timing yield estimation using statistical stat...  \n",
       "4  360° 360° represents the concerns that are add...  "
      ]
     },
     "execution_count": 7,
     "metadata": {},
     "output_type": "execute_result"
    }
   ],
   "source": [
    "data.head()"
   ]
  },
  {
   "cell_type": "code",
   "execution_count": null,
   "id": "8be04b9d",
   "metadata": {},
   "outputs": [],
   "source": [
    "data.to_csv('data.csv', index=False)"
   ]
  },
  {
   "cell_type": "code",
   "execution_count": null,
   "id": "f178ef3c",
   "metadata": {},
   "outputs": [],
   "source": []
  }
 ],
 "metadata": {
  "kernelspec": {
   "display_name": "Python 3 (ipykernel)",
   "language": "python",
   "name": "python3"
  },
  "language_info": {
   "codemirror_mode": {
    "name": "ipython",
    "version": 3
   },
   "file_extension": ".py",
   "mimetype": "text/x-python",
   "name": "python",
   "nbconvert_exporter": "python",
   "pygments_lexer": "ipython3",
   "version": "3.10.6"
  }
 },
 "nbformat": 4,
 "nbformat_minor": 5
}
