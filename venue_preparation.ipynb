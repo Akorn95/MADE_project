{
 "cells": [
  {
   "cell_type": "code",
   "execution_count": 1,
   "id": "140a516f",
   "metadata": {},
   "outputs": [],
   "source": [
    "import pandas as pd\n",
    "import seaborn as sns\n",
    "import numpy as np\n",
    "import matplotlib.pyplot as plt\n",
    "sns.set(rc={'figure.figsize':(20.7,8.27)})\n",
    "import re\n",
    "from transliterate import translit\n",
    "import unidecode\n",
    "import json"
   ]
  },
  {
   "cell_type": "code",
   "execution_count": 2,
   "id": "6837186c",
   "metadata": {},
   "outputs": [
    {
     "data": {
      "text/html": [
       "<div>\n",
       "<style scoped>\n",
       "    .dataframe tbody tr th:only-of-type {\n",
       "        vertical-align: middle;\n",
       "    }\n",
       "\n",
       "    .dataframe tbody tr th {\n",
       "        vertical-align: top;\n",
       "    }\n",
       "\n",
       "    .dataframe thead th {\n",
       "        text-align: right;\n",
       "    }\n",
       "</style>\n",
       "<table border=\"1\" class=\"dataframe\">\n",
       "  <thead>\n",
       "    <tr style=\"text-align: right;\">\n",
       "      <th></th>\n",
       "      <th>type</th>\n",
       "      <th>article_id</th>\n",
       "      <th>_id</th>\n",
       "      <th>name_d</th>\n",
       "      <th>raw</th>\n",
       "      <th>raw_zh</th>\n",
       "      <th>publisher</th>\n",
       "      <th>sid</th>\n",
       "      <th>issn</th>\n",
       "      <th>t</th>\n",
       "      <th>online_issn</th>\n",
       "      <th>name_s</th>\n",
       "      <th>name</th>\n",
       "      <th>src</th>\n",
       "    </tr>\n",
       "  </thead>\n",
       "  <tbody>\n",
       "    <tr>\n",
       "      <th>0</th>\n",
       "      <td>0.0</td>\n",
       "      <td>53e99784b7602d9701f3e3f5</td>\n",
       "      <td>NaN</td>\n",
       "      <td>NaN</td>\n",
       "      <td>NaN</td>\n",
       "      <td>NaN</td>\n",
       "      <td>NaN</td>\n",
       "      <td>NaN</td>\n",
       "      <td>NaN</td>\n",
       "      <td>NaN</td>\n",
       "      <td>NaN</td>\n",
       "      <td>NaN</td>\n",
       "      <td>NaN</td>\n",
       "      <td>NaN</td>\n",
       "    </tr>\n",
       "    <tr>\n",
       "      <th>1</th>\n",
       "      <td>0.0</td>\n",
       "      <td>53e99784b7602d9701f3e133</td>\n",
       "      <td>53a7297d20f7420be8bd4ae7</td>\n",
       "      <td>International Geoscience and Remote Sensing Sy...</td>\n",
       "      <td>IGARSS</td>\n",
       "      <td>NaN</td>\n",
       "      <td>NaN</td>\n",
       "      <td>NaN</td>\n",
       "      <td>NaN</td>\n",
       "      <td>NaN</td>\n",
       "      <td>NaN</td>\n",
       "      <td>NaN</td>\n",
       "      <td>NaN</td>\n",
       "      <td>NaN</td>\n",
       "    </tr>\n",
       "    <tr>\n",
       "      <th>2</th>\n",
       "      <td>0.0</td>\n",
       "      <td>53e99784b7602d9701f3e151</td>\n",
       "      <td>53a72a4920f7420be8bfa51b</td>\n",
       "      <td>International Conference on Document Analysis ...</td>\n",
       "      <td>ICDAR-1</td>\n",
       "      <td>NaN</td>\n",
       "      <td>NaN</td>\n",
       "      <td>NaN</td>\n",
       "      <td>NaN</td>\n",
       "      <td>NaN</td>\n",
       "      <td>NaN</td>\n",
       "      <td>NaN</td>\n",
       "      <td>NaN</td>\n",
       "      <td>NaN</td>\n",
       "    </tr>\n",
       "    <tr>\n",
       "      <th>3</th>\n",
       "      <td>0.0</td>\n",
       "      <td>53e99784b7602d9701f3e15d</td>\n",
       "      <td>53a72e2020f7420be8c80142</td>\n",
       "      <td>International Symposium on Circuits and Systems</td>\n",
       "      <td>ISCAS (3)</td>\n",
       "      <td>NaN</td>\n",
       "      <td>NaN</td>\n",
       "      <td>NaN</td>\n",
       "      <td>NaN</td>\n",
       "      <td>NaN</td>\n",
       "      <td>NaN</td>\n",
       "      <td>NaN</td>\n",
       "      <td>NaN</td>\n",
       "      <td>NaN</td>\n",
       "    </tr>\n",
       "    <tr>\n",
       "      <th>4</th>\n",
       "      <td>NaN</td>\n",
       "      <td>53e99784b7602d9701f3e161</td>\n",
       "      <td>5390a74a20f70186a0e8b40b</td>\n",
       "      <td>NaN</td>\n",
       "      <td>ACM SIGGRAPH ASIA 2009 Art Gallery &amp; Emerging ...</td>\n",
       "      <td>NaN</td>\n",
       "      <td>NaN</td>\n",
       "      <td>NaN</td>\n",
       "      <td>NaN</td>\n",
       "      <td>NaN</td>\n",
       "      <td>NaN</td>\n",
       "      <td>NaN</td>\n",
       "      <td>NaN</td>\n",
       "      <td>NaN</td>\n",
       "    </tr>\n",
       "  </tbody>\n",
       "</table>\n",
       "</div>"
      ],
      "text/plain": [
       "   type                article_id                       _id  \\\n",
       "0   0.0  53e99784b7602d9701f3e3f5                       NaN   \n",
       "1   0.0  53e99784b7602d9701f3e133  53a7297d20f7420be8bd4ae7   \n",
       "2   0.0  53e99784b7602d9701f3e151  53a72a4920f7420be8bfa51b   \n",
       "3   0.0  53e99784b7602d9701f3e15d  53a72e2020f7420be8c80142   \n",
       "4   NaN  53e99784b7602d9701f3e161  5390a74a20f70186a0e8b40b   \n",
       "\n",
       "                                              name_d  \\\n",
       "0                                                NaN   \n",
       "1  International Geoscience and Remote Sensing Sy...   \n",
       "2  International Conference on Document Analysis ...   \n",
       "3    International Symposium on Circuits and Systems   \n",
       "4                                                NaN   \n",
       "\n",
       "                                                 raw raw_zh publisher  sid  \\\n",
       "0                                                NaN    NaN       NaN  NaN   \n",
       "1                                             IGARSS    NaN       NaN  NaN   \n",
       "2                                            ICDAR-1    NaN       NaN  NaN   \n",
       "3                                          ISCAS (3)    NaN       NaN  NaN   \n",
       "4  ACM SIGGRAPH ASIA 2009 Art Gallery & Emerging ...    NaN       NaN  NaN   \n",
       "\n",
       "  issn    t online_issn name_s name  src  \n",
       "0  NaN  NaN         NaN    NaN  NaN  NaN  \n",
       "1  NaN  NaN         NaN    NaN  NaN  NaN  \n",
       "2  NaN  NaN         NaN    NaN  NaN  NaN  \n",
       "3  NaN  NaN         NaN    NaN  NaN  NaN  \n",
       "4  NaN  NaN         NaN    NaN  NaN  NaN  "
      ]
     },
     "execution_count": 2,
     "metadata": {},
     "output_type": "execute_result"
    }
   ],
   "source": [
    "data = pd.read_csv(\"venue_raw.csv\", low_memory=False)\n",
    "data.head()"
   ]
  },
  {
   "cell_type": "markdown",
   "id": "da57a53e",
   "metadata": {},
   "source": [
    "# map_article_venue"
   ]
  },
  {
   "cell_type": "code",
   "execution_count": 4,
   "id": "fbc4f86b",
   "metadata": {},
   "outputs": [],
   "source": [
    "map_article_venue=data[['article_id', '_id']]"
   ]
  },
  {
   "cell_type": "code",
   "execution_count": 5,
   "id": "43daad9c",
   "metadata": {},
   "outputs": [
    {
     "name": "stderr",
     "output_type": "stream",
     "text": [
      "C:\\Users\\mrnik\\AppData\\Local\\Temp\\ipykernel_15968\\2498343817.py:1: SettingWithCopyWarning: \n",
      "A value is trying to be set on a copy of a slice from a DataFrame\n",
      "\n",
      "See the caveats in the documentation: https://pandas.pydata.org/pandas-docs/stable/user_guide/indexing.html#returning-a-view-versus-a-copy\n",
      "  map_article_venue.rename(columns={\"_id\": \"id_venue\", \"article_id\": \"id_article\"}, inplace=True)\n"
     ]
    }
   ],
   "source": [
    "map_article_venue.rename(columns={\"_id\": \"id_venue\", \"article_id\": \"id_article\"}, inplace=True)"
   ]
  },
  {
   "cell_type": "code",
   "execution_count": 6,
   "id": "32ba4c6e",
   "metadata": {},
   "outputs": [
    {
     "name": "stderr",
     "output_type": "stream",
     "text": [
      "C:\\Users\\mrnik\\AppData\\Local\\Temp\\ipykernel_15968\\1174457844.py:1: SettingWithCopyWarning: \n",
      "A value is trying to be set on a copy of a slice from a DataFrame\n",
      "\n",
      "See the caveats in the documentation: https://pandas.pydata.org/pandas-docs/stable/user_guide/indexing.html#returning-a-view-versus-a-copy\n",
      "  map_article_venue.drop_duplicates(inplace=True)\n"
     ]
    }
   ],
   "source": [
    "map_article_venue.drop_duplicates(inplace=True)"
   ]
  },
  {
   "cell_type": "code",
   "execution_count": 7,
   "id": "6a0f9446",
   "metadata": {},
   "outputs": [
    {
     "name": "stderr",
     "output_type": "stream",
     "text": [
      "C:\\Users\\mrnik\\AppData\\Local\\Temp\\ipykernel_15968\\2590078096.py:1: SettingWithCopyWarning: \n",
      "A value is trying to be set on a copy of a slice from a DataFrame\n",
      "\n",
      "See the caveats in the documentation: https://pandas.pydata.org/pandas-docs/stable/user_guide/indexing.html#returning-a-view-versus-a-copy\n",
      "  map_article_venue.dropna(how='any', inplace=True)\n"
     ]
    }
   ],
   "source": [
    "map_article_venue.dropna(how='any', inplace=True)"
   ]
  },
  {
   "cell_type": "code",
   "execution_count": 8,
   "id": "4cc6dd60",
   "metadata": {},
   "outputs": [],
   "source": [
    "map_article_venue.to_csv('db_map_article_venue.csv', index=False)"
   ]
  },
  {
   "cell_type": "markdown",
   "id": "55ffeff0",
   "metadata": {},
   "source": [
    "# authors"
   ]
  },
  {
   "cell_type": "code",
   "execution_count": 9,
   "id": "baef2d3b",
   "metadata": {},
   "outputs": [],
   "source": [
    "venue=data[['_id', 'raw']]"
   ]
  },
  {
   "cell_type": "code",
   "execution_count": 10,
   "id": "05e50f7c",
   "metadata": {},
   "outputs": [
    {
     "name": "stderr",
     "output_type": "stream",
     "text": [
      "C:\\Users\\mrnik\\AppData\\Local\\Temp\\ipykernel_15968\\2079510540.py:1: SettingWithCopyWarning: \n",
      "A value is trying to be set on a copy of a slice from a DataFrame\n",
      "\n",
      "See the caveats in the documentation: https://pandas.pydata.org/pandas-docs/stable/user_guide/indexing.html#returning-a-view-versus-a-copy\n",
      "  venue.rename(columns={\"_id\": \"id_venue\", 'raw': 'name'}, inplace=True)\n"
     ]
    }
   ],
   "source": [
    "venue.rename(columns={\"_id\": \"id_venue\", 'raw': 'name'}, inplace=True)"
   ]
  },
  {
   "cell_type": "code",
   "execution_count": 11,
   "id": "7e4534ce",
   "metadata": {},
   "outputs": [],
   "source": [
    "reg = re.compile('[^a-zA-Z ]')"
   ]
  },
  {
   "cell_type": "code",
   "execution_count": 12,
   "id": "53152aaa",
   "metadata": {},
   "outputs": [
    {
     "name": "stderr",
     "output_type": "stream",
     "text": [
      "C:\\Users\\mrnik\\AppData\\Local\\Temp\\ipykernel_15968\\1679783884.py:1: SettingWithCopyWarning: \n",
      "A value is trying to be set on a copy of a slice from a DataFrame.\n",
      "Try using .loc[row_indexer,col_indexer] = value instead\n",
      "\n",
      "See the caveats in the documentation: https://pandas.pydata.org/pandas-docs/stable/user_guide/indexing.html#returning-a-view-versus-a-copy\n",
      "  venue['name']=venue['name'].apply(lambda x: ' '.join(reg.sub('', unidecode.unidecode(str(x))).lower().strip().split()))\n"
     ]
    }
   ],
   "source": [
    "venue['name']=venue['name'].apply(lambda x: ' '.join(reg.sub('', unidecode.unidecode(str(x))).lower().strip().split()))"
   ]
  },
  {
   "cell_type": "code",
   "execution_count": 13,
   "id": "c76989fb",
   "metadata": {},
   "outputs": [
    {
     "name": "stderr",
     "output_type": "stream",
     "text": [
      "C:\\Users\\mrnik\\AppData\\Local\\Temp\\ipykernel_15968\\1590716031.py:1: SettingWithCopyWarning: \n",
      "A value is trying to be set on a copy of a slice from a DataFrame\n",
      "\n",
      "See the caveats in the documentation: https://pandas.pydata.org/pandas-docs/stable/user_guide/indexing.html#returning-a-view-versus-a-copy\n",
      "  venue.sort_values('name', ascending=False, key=lambda x: x.str.len() , inplace=True)\n"
     ]
    }
   ],
   "source": [
    "venue.sort_values('name', ascending=False, key=lambda x: x.str.len() , inplace=True)"
   ]
  },
  {
   "cell_type": "code",
   "execution_count": 14,
   "id": "bf32c920",
   "metadata": {},
   "outputs": [
    {
     "name": "stderr",
     "output_type": "stream",
     "text": [
      "C:\\Users\\mrnik\\AppData\\Local\\Temp\\ipykernel_15968\\502863588.py:1: SettingWithCopyWarning: \n",
      "A value is trying to be set on a copy of a slice from a DataFrame\n",
      "\n",
      "See the caveats in the documentation: https://pandas.pydata.org/pandas-docs/stable/user_guide/indexing.html#returning-a-view-versus-a-copy\n",
      "  venue.drop_duplicates('id_venue', inplace=True)\n"
     ]
    }
   ],
   "source": [
    "venue.drop_duplicates('id_venue', inplace=True)"
   ]
  },
  {
   "cell_type": "code",
   "execution_count": 15,
   "id": "f772716d",
   "metadata": {},
   "outputs": [
    {
     "name": "stderr",
     "output_type": "stream",
     "text": [
      "C:\\Users\\mrnik\\AppData\\Local\\Temp\\ipykernel_15968\\1859506302.py:1: SettingWithCopyWarning: \n",
      "A value is trying to be set on a copy of a slice from a DataFrame\n",
      "\n",
      "See the caveats in the documentation: https://pandas.pydata.org/pandas-docs/stable/user_guide/indexing.html#returning-a-view-versus-a-copy\n",
      "  venue.dropna(how='any', inplace=True)\n"
     ]
    }
   ],
   "source": [
    "venue.dropna(how='any', inplace=True)"
   ]
  },
  {
   "cell_type": "code",
   "execution_count": 17,
   "id": "29ec8d6c",
   "metadata": {},
   "outputs": [],
   "source": [
    "venue=venue[venue['name'].str.len()>0]"
   ]
  },
  {
   "cell_type": "code",
   "execution_count": 18,
   "id": "8715d992",
   "metadata": {},
   "outputs": [],
   "source": [
    "venue.to_csv('db_venue.csv', index=False)"
   ]
  },
  {
   "cell_type": "code",
   "execution_count": 19,
   "id": "b1fa048d",
   "metadata": {},
   "outputs": [
    {
     "data": {
      "text/html": [
       "<div>\n",
       "<style scoped>\n",
       "    .dataframe tbody tr th:only-of-type {\n",
       "        vertical-align: middle;\n",
       "    }\n",
       "\n",
       "    .dataframe tbody tr th {\n",
       "        vertical-align: top;\n",
       "    }\n",
       "\n",
       "    .dataframe thead th {\n",
       "        text-align: right;\n",
       "    }\n",
       "</style>\n",
       "<table border=\"1\" class=\"dataframe\">\n",
       "  <thead>\n",
       "    <tr style=\"text-align: right;\">\n",
       "      <th></th>\n",
       "      <th>id_venue</th>\n",
       "      <th>name</th>\n",
       "    </tr>\n",
       "  </thead>\n",
       "  <tbody>\n",
       "    <tr>\n",
       "      <th>2661456</th>\n",
       "      <td>584804a89ed5db32658609c5</td>\n",
       "      <td>proceedings th ieee international conference o...</td>\n",
       "    </tr>\n",
       "    <tr>\n",
       "      <th>1034813</th>\n",
       "      <td>5390b14820f70186a0ede3b7</td>\n",
       "      <td>aiasabebi proceedings of the th wseas internat...</td>\n",
       "    </tr>\n",
       "    <tr>\n",
       "      <th>666624</th>\n",
       "      <td>539091dc20f70186a0de1ab2</td>\n",
       "      <td>decomposition of general queueing network mode...</td>\n",
       "    </tr>\n",
       "    <tr>\n",
       "      <th>2517257</th>\n",
       "      <td>553a79550cf288c3e227433b</td>\n",
       "      <td>uicatcscalcom proceedings of the ieee th intl ...</td>\n",
       "    </tr>\n",
       "    <tr>\n",
       "      <th>4439097</th>\n",
       "      <td>539089fa20f70186a0d9c89a</td>\n",
       "      <td>adbisdasfaa proceedings of the easteuropean co...</td>\n",
       "    </tr>\n",
       "    <tr>\n",
       "      <th>...</th>\n",
       "      <td>...</td>\n",
       "      <td>...</td>\n",
       "    </tr>\n",
       "    <tr>\n",
       "      <th>767566</th>\n",
       "      <td>53a72a8820f7420be8c04ab5</td>\n",
       "      <td>b</td>\n",
       "    </tr>\n",
       "    <tr>\n",
       "      <th>2374882</th>\n",
       "      <td>53a725d820f7420be8b5b56b</td>\n",
       "      <td>i</td>\n",
       "    </tr>\n",
       "    <tr>\n",
       "      <th>2472696</th>\n",
       "      <td>53909c2020f70186a0e2578e</td>\n",
       "      <td>s</td>\n",
       "    </tr>\n",
       "    <tr>\n",
       "      <th>3464365</th>\n",
       "      <td>53a72cdf20f7420be8c5199a</td>\n",
       "      <td>s</td>\n",
       "    </tr>\n",
       "    <tr>\n",
       "      <th>3464344</th>\n",
       "      <td>53a72cdf20f7420be8c5199b</td>\n",
       "      <td>s</td>\n",
       "    </tr>\n",
       "  </tbody>\n",
       "</table>\n",
       "<p>46347 rows × 2 columns</p>\n",
       "</div>"
      ],
      "text/plain": [
       "                         id_venue  \\\n",
       "2661456  584804a89ed5db32658609c5   \n",
       "1034813  5390b14820f70186a0ede3b7   \n",
       "666624   539091dc20f70186a0de1ab2   \n",
       "2517257  553a79550cf288c3e227433b   \n",
       "4439097  539089fa20f70186a0d9c89a   \n",
       "...                           ...   \n",
       "767566   53a72a8820f7420be8c04ab5   \n",
       "2374882  53a725d820f7420be8b5b56b   \n",
       "2472696  53909c2020f70186a0e2578e   \n",
       "3464365  53a72cdf20f7420be8c5199a   \n",
       "3464344  53a72cdf20f7420be8c5199b   \n",
       "\n",
       "                                                      name  \n",
       "2661456  proceedings th ieee international conference o...  \n",
       "1034813  aiasabebi proceedings of the th wseas internat...  \n",
       "666624   decomposition of general queueing network mode...  \n",
       "2517257  uicatcscalcom proceedings of the ieee th intl ...  \n",
       "4439097  adbisdasfaa proceedings of the easteuropean co...  \n",
       "...                                                    ...  \n",
       "767566                                                   b  \n",
       "2374882                                                  i  \n",
       "2472696                                                  s  \n",
       "3464365                                                  s  \n",
       "3464344                                                  s  \n",
       "\n",
       "[46347 rows x 2 columns]"
      ]
     },
     "execution_count": 19,
     "metadata": {},
     "output_type": "execute_result"
    }
   ],
   "source": [
    "venue"
   ]
  },
  {
   "cell_type": "code",
   "execution_count": 197,
   "id": "c84f3098",
   "metadata": {},
   "outputs": [],
   "source": [
    "orgs.drop_duplicates(inplace=True)"
   ]
  },
  {
   "cell_type": "code",
   "execution_count": 201,
   "id": "e74a828b",
   "metadata": {},
   "outputs": [],
   "source": [
    "orgs.to_csv('db_orgs.csv', index=False)"
   ]
  },
  {
   "cell_type": "code",
   "execution_count": null,
   "id": "16e8b3f9",
   "metadata": {},
   "outputs": [],
   "source": []
  }
 ],
 "metadata": {
  "kernelspec": {
   "display_name": "Python 3 (ipykernel)",
   "language": "python",
   "name": "python3"
  },
  "language_info": {
   "codemirror_mode": {
    "name": "ipython",
    "version": 3
   },
   "file_extension": ".py",
   "mimetype": "text/x-python",
   "name": "python",
   "nbconvert_exporter": "python",
   "pygments_lexer": "ipython3",
   "version": "3.10.6"
  }
 },
 "nbformat": 4,
 "nbformat_minor": 5
}
