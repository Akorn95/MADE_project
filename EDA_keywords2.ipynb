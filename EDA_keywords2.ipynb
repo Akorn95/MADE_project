{
 "cells": [
  {
   "cell_type": "code",
   "execution_count": 1,
   "id": "2de357a4",
   "metadata": {},
   "outputs": [],
   "source": [
    "import pandas as pd\n",
    "import matplotlib.pyplot as plt\n",
    "import numpy as np\n",
    "import math\n",
    "import re\n",
    "import seaborn as sns"
   ]
  },
  {
   "cell_type": "code",
   "execution_count": 2,
   "id": "0b73f35f",
   "metadata": {},
   "outputs": [],
   "source": [
    "data_keywords = pd.read_csv(\"keywords_raw.csv\")"
   ]
  },
  {
   "cell_type": "code",
   "execution_count": 3,
   "id": "ee4ca8fa",
   "metadata": {},
   "outputs": [
    {
     "data": {
      "text/html": [
       "<div>\n",
       "<style scoped>\n",
       "    .dataframe tbody tr th:only-of-type {\n",
       "        vertical-align: middle;\n",
       "    }\n",
       "\n",
       "    .dataframe tbody tr th {\n",
       "        vertical-align: top;\n",
       "    }\n",
       "\n",
       "    .dataframe thead th {\n",
       "        text-align: right;\n",
       "    }\n",
       "</style>\n",
       "<table border=\"1\" class=\"dataframe\">\n",
       "  <thead>\n",
       "    <tr style=\"text-align: right;\">\n",
       "      <th></th>\n",
       "      <th>article_id</th>\n",
       "      <th>keywords</th>\n",
       "    </tr>\n",
       "  </thead>\n",
       "  <tbody>\n",
       "    <tr>\n",
       "      <th>0</th>\n",
       "      <td>53e99784b7602d9701f3e133</td>\n",
       "      <td>canopy parameters</td>\n",
       "    </tr>\n",
       "    <tr>\n",
       "      <th>1</th>\n",
       "      <td>53e99784b7602d9701f3e133</td>\n",
       "      <td>canopy spectrum</td>\n",
       "    </tr>\n",
       "    <tr>\n",
       "      <th>2</th>\n",
       "      <td>53e99784b7602d9701f3e133</td>\n",
       "      <td>different soil water content control</td>\n",
       "    </tr>\n",
       "    <tr>\n",
       "      <th>3</th>\n",
       "      <td>53e99784b7602d9701f3e133</td>\n",
       "      <td>winter wheat</td>\n",
       "    </tr>\n",
       "    <tr>\n",
       "      <th>4</th>\n",
       "      <td>53e99784b7602d9701f3e133</td>\n",
       "      <td>irrigation</td>\n",
       "    </tr>\n",
       "    <tr>\n",
       "      <th>...</th>\n",
       "      <td>...</td>\n",
       "      <td>...</td>\n",
       "    </tr>\n",
       "    <tr>\n",
       "      <th>33141796</th>\n",
       "      <td>60815a84e4510cd7c8660947</td>\n",
       "      <td>Image segmentation</td>\n",
       "    </tr>\n",
       "    <tr>\n",
       "      <th>33141797</th>\n",
       "      <td>60815a84e4510cd7c8660947</td>\n",
       "      <td>Three-dimensional displays</td>\n",
       "    </tr>\n",
       "    <tr>\n",
       "      <th>33141798</th>\n",
       "      <td>60815a84e4510cd7c8660947</td>\n",
       "      <td>Roads</td>\n",
       "    </tr>\n",
       "    <tr>\n",
       "      <th>33141799</th>\n",
       "      <td>60815a84e4510cd7c8660947</td>\n",
       "      <td>Conferences</td>\n",
       "    </tr>\n",
       "    <tr>\n",
       "      <th>33141800</th>\n",
       "      <td>60815a84e4510cd7c8660947</td>\n",
       "      <td>Semantics</td>\n",
       "    </tr>\n",
       "  </tbody>\n",
       "</table>\n",
       "<p>33141801 rows × 2 columns</p>\n",
       "</div>"
      ],
      "text/plain": [
       "                        article_id                              keywords\n",
       "0         53e99784b7602d9701f3e133                     canopy parameters\n",
       "1         53e99784b7602d9701f3e133                       canopy spectrum\n",
       "2         53e99784b7602d9701f3e133  different soil water content control\n",
       "3         53e99784b7602d9701f3e133                          winter wheat\n",
       "4         53e99784b7602d9701f3e133                            irrigation\n",
       "...                            ...                                   ...\n",
       "33141796  60815a84e4510cd7c8660947                    Image segmentation\n",
       "33141797  60815a84e4510cd7c8660947            Three-dimensional displays\n",
       "33141798  60815a84e4510cd7c8660947                                 Roads\n",
       "33141799  60815a84e4510cd7c8660947                           Conferences\n",
       "33141800  60815a84e4510cd7c8660947                             Semantics\n",
       "\n",
       "[33141801 rows x 2 columns]"
      ]
     },
     "execution_count": 3,
     "metadata": {},
     "output_type": "execute_result"
    }
   ],
   "source": [
    "data_keywords"
   ]
  },
  {
   "cell_type": "markdown",
   "id": "2b815d75",
   "metadata": {},
   "source": [
    "### Data cleaning"
   ]
  },
  {
   "cell_type": "code",
   "execution_count": 5,
   "id": "af6411d5",
   "metadata": {},
   "outputs": [
    {
     "data": {
      "text/plain": [
       "article_id       0\n",
       "keywords      3656\n",
       "dtype: int64"
      ]
     },
     "execution_count": 5,
     "metadata": {},
     "output_type": "execute_result"
    }
   ],
   "source": [
    "data_keywords.isna().sum()"
   ]
  },
  {
   "cell_type": "code",
   "execution_count": 4,
   "id": "f464ee31",
   "metadata": {},
   "outputs": [],
   "source": [
    "def isNaN(num):\n",
    "    return num != num\n",
    "\n",
    "def clean_chevrons(text):\n",
    "    if isNaN(text):\n",
    "        return None\n",
    "    text = str(text)\n",
    "    chevrons = re.compile(\"<.*?>\")\n",
    "    return chevrons.sub('', text)"
   ]
  },
  {
   "cell_type": "code",
   "execution_count": 5,
   "id": "01ff7715",
   "metadata": {},
   "outputs": [],
   "source": [
    "data_keywords.keywords = data_keywords.keywords.apply(lambda x: clean_chevrons(x))"
   ]
  },
  {
   "cell_type": "code",
   "execution_count": 6,
   "id": "c288f4df",
   "metadata": {},
   "outputs": [],
   "source": [
    "data_keywords.loc[data_keywords.keywords == '', \"keywords\"] = np.nan"
   ]
  },
  {
   "cell_type": "code",
   "execution_count": 7,
   "id": "e197fcab",
   "metadata": {},
   "outputs": [
    {
     "data": {
      "text/plain": [
       "article_id       0\n",
       "keywords      3717\n",
       "dtype: int64"
      ]
     },
     "execution_count": 7,
     "metadata": {},
     "output_type": "execute_result"
    }
   ],
   "source": [
    "data_keywords.isna().sum()"
   ]
  },
  {
   "cell_type": "code",
   "execution_count": 8,
   "id": "fa32b635",
   "metadata": {},
   "outputs": [],
   "source": [
    "count_not_none = data_keywords[~data_keywords.article_id.isna()].groupby('article_id').count()"
   ]
  },
  {
   "cell_type": "code",
   "execution_count": 9,
   "id": "c6e452eb",
   "metadata": {},
   "outputs": [],
   "source": [
    "count_not_none = count_not_none[count_not_none.keywords > 0]"
   ]
  },
  {
   "cell_type": "code",
   "execution_count": 10,
   "id": "0d54146f",
   "metadata": {},
   "outputs": [
    {
     "data": {
      "text/html": [
       "<div>\n",
       "<style scoped>\n",
       "    .dataframe tbody tr th:only-of-type {\n",
       "        vertical-align: middle;\n",
       "    }\n",
       "\n",
       "    .dataframe tbody tr th {\n",
       "        vertical-align: top;\n",
       "    }\n",
       "\n",
       "    .dataframe thead th {\n",
       "        text-align: right;\n",
       "    }\n",
       "</style>\n",
       "<table border=\"1\" class=\"dataframe\">\n",
       "  <thead>\n",
       "    <tr style=\"text-align: right;\">\n",
       "      <th></th>\n",
       "      <th>keywords</th>\n",
       "    </tr>\n",
       "    <tr>\n",
       "      <th>article_id</th>\n",
       "      <th></th>\n",
       "    </tr>\n",
       "  </thead>\n",
       "  <tbody>\n",
       "    <tr>\n",
       "      <th>53e99784b7602d9701f3e133</th>\n",
       "      <td>17</td>\n",
       "    </tr>\n",
       "    <tr>\n",
       "      <th>53e99784b7602d9701f3e151</th>\n",
       "      <td>11</td>\n",
       "    </tr>\n",
       "    <tr>\n",
       "      <th>53e99784b7602d9701f3e15d</th>\n",
       "      <td>33</td>\n",
       "    </tr>\n",
       "    <tr>\n",
       "      <th>53e99784b7602d9701f3e161</th>\n",
       "      <td>4</td>\n",
       "    </tr>\n",
       "    <tr>\n",
       "      <th>53e99784b7602d9701f3e4f4</th>\n",
       "      <td>10</td>\n",
       "    </tr>\n",
       "    <tr>\n",
       "      <th>...</th>\n",
       "      <td>...</td>\n",
       "    </tr>\n",
       "    <tr>\n",
       "      <th>60815a84e4510cd7c8660930</th>\n",
       "      <td>7</td>\n",
       "    </tr>\n",
       "    <tr>\n",
       "      <th>60815a84e4510cd7c8660939</th>\n",
       "      <td>7</td>\n",
       "    </tr>\n",
       "    <tr>\n",
       "      <th>60815a84e4510cd7c866093e</th>\n",
       "      <td>7</td>\n",
       "    </tr>\n",
       "    <tr>\n",
       "      <th>60815a84e4510cd7c8660943</th>\n",
       "      <td>7</td>\n",
       "    </tr>\n",
       "    <tr>\n",
       "      <th>60815a84e4510cd7c8660947</th>\n",
       "      <td>7</td>\n",
       "    </tr>\n",
       "  </tbody>\n",
       "</table>\n",
       "<p>3410554 rows × 1 columns</p>\n",
       "</div>"
      ],
      "text/plain": [
       "                          keywords\n",
       "article_id                        \n",
       "53e99784b7602d9701f3e133        17\n",
       "53e99784b7602d9701f3e151        11\n",
       "53e99784b7602d9701f3e15d        33\n",
       "53e99784b7602d9701f3e161         4\n",
       "53e99784b7602d9701f3e4f4        10\n",
       "...                            ...\n",
       "60815a84e4510cd7c8660930         7\n",
       "60815a84e4510cd7c8660939         7\n",
       "60815a84e4510cd7c866093e         7\n",
       "60815a84e4510cd7c8660943         7\n",
       "60815a84e4510cd7c8660947         7\n",
       "\n",
       "[3410554 rows x 1 columns]"
      ]
     },
     "execution_count": 10,
     "metadata": {},
     "output_type": "execute_result"
    }
   ],
   "source": [
    "count_not_none"
   ]
  },
  {
   "cell_type": "code",
   "execution_count": 11,
   "id": "04029014",
   "metadata": {},
   "outputs": [],
   "source": [
    "none_keywords = data_keywords[data_keywords.keywords.isna()]"
   ]
  },
  {
   "cell_type": "code",
   "execution_count": 12,
   "id": "ad72116d",
   "metadata": {},
   "outputs": [],
   "source": [
    "to_drop = list(none_keywords.merge(count_not_none, on = 'article_id', how = 'inner').article_id)"
   ]
  },
  {
   "cell_type": "code",
   "execution_count": 13,
   "id": "d8bae430",
   "metadata": {
    "scrolled": true
   },
   "outputs": [
    {
     "data": {
      "text/plain": [
       "401"
      ]
     },
     "execution_count": 13,
     "metadata": {},
     "output_type": "execute_result"
    }
   ],
   "source": [
    "len(to_drop)"
   ]
  },
  {
   "cell_type": "code",
   "execution_count": 14,
   "id": "ba886618",
   "metadata": {},
   "outputs": [],
   "source": [
    "# drop NaN if \"artical_id\" has several keywords\n",
    "\n",
    "cleared_df = data_keywords.drop(none_keywords[none_keywords.article_id.isin(to_drop)].index)"
   ]
  },
  {
   "cell_type": "code",
   "execution_count": 15,
   "id": "0f00397c",
   "metadata": {
    "scrolled": false
   },
   "outputs": [
    {
     "data": {
      "text/html": [
       "<div>\n",
       "<style scoped>\n",
       "    .dataframe tbody tr th:only-of-type {\n",
       "        vertical-align: middle;\n",
       "    }\n",
       "\n",
       "    .dataframe tbody tr th {\n",
       "        vertical-align: top;\n",
       "    }\n",
       "\n",
       "    .dataframe thead th {\n",
       "        text-align: right;\n",
       "    }\n",
       "</style>\n",
       "<table border=\"1\" class=\"dataframe\">\n",
       "  <thead>\n",
       "    <tr style=\"text-align: right;\">\n",
       "      <th></th>\n",
       "      <th>article_id</th>\n",
       "      <th>keywords</th>\n",
       "    </tr>\n",
       "  </thead>\n",
       "  <tbody>\n",
       "    <tr>\n",
       "      <th>0</th>\n",
       "      <td>53e99784b7602d9701f3e133</td>\n",
       "      <td>canopy parameters</td>\n",
       "    </tr>\n",
       "    <tr>\n",
       "      <th>1</th>\n",
       "      <td>53e99784b7602d9701f3e133</td>\n",
       "      <td>canopy spectrum</td>\n",
       "    </tr>\n",
       "    <tr>\n",
       "      <th>2</th>\n",
       "      <td>53e99784b7602d9701f3e133</td>\n",
       "      <td>different soil water content control</td>\n",
       "    </tr>\n",
       "    <tr>\n",
       "      <th>3</th>\n",
       "      <td>53e99784b7602d9701f3e133</td>\n",
       "      <td>winter wheat</td>\n",
       "    </tr>\n",
       "    <tr>\n",
       "      <th>4</th>\n",
       "      <td>53e99784b7602d9701f3e133</td>\n",
       "      <td>irrigation</td>\n",
       "    </tr>\n",
       "    <tr>\n",
       "      <th>...</th>\n",
       "      <td>...</td>\n",
       "      <td>...</td>\n",
       "    </tr>\n",
       "    <tr>\n",
       "      <th>33141796</th>\n",
       "      <td>60815a84e4510cd7c8660947</td>\n",
       "      <td>Image segmentation</td>\n",
       "    </tr>\n",
       "    <tr>\n",
       "      <th>33141797</th>\n",
       "      <td>60815a84e4510cd7c8660947</td>\n",
       "      <td>Three-dimensional displays</td>\n",
       "    </tr>\n",
       "    <tr>\n",
       "      <th>33141798</th>\n",
       "      <td>60815a84e4510cd7c8660947</td>\n",
       "      <td>Roads</td>\n",
       "    </tr>\n",
       "    <tr>\n",
       "      <th>33141799</th>\n",
       "      <td>60815a84e4510cd7c8660947</td>\n",
       "      <td>Conferences</td>\n",
       "    </tr>\n",
       "    <tr>\n",
       "      <th>33141800</th>\n",
       "      <td>60815a84e4510cd7c8660947</td>\n",
       "      <td>Semantics</td>\n",
       "    </tr>\n",
       "  </tbody>\n",
       "</table>\n",
       "<p>33141400 rows × 2 columns</p>\n",
       "</div>"
      ],
      "text/plain": [
       "                        article_id                              keywords\n",
       "0         53e99784b7602d9701f3e133                     canopy parameters\n",
       "1         53e99784b7602d9701f3e133                       canopy spectrum\n",
       "2         53e99784b7602d9701f3e133  different soil water content control\n",
       "3         53e99784b7602d9701f3e133                          winter wheat\n",
       "4         53e99784b7602d9701f3e133                            irrigation\n",
       "...                            ...                                   ...\n",
       "33141796  60815a84e4510cd7c8660947                    Image segmentation\n",
       "33141797  60815a84e4510cd7c8660947            Three-dimensional displays\n",
       "33141798  60815a84e4510cd7c8660947                                 Roads\n",
       "33141799  60815a84e4510cd7c8660947                           Conferences\n",
       "33141800  60815a84e4510cd7c8660947                             Semantics\n",
       "\n",
       "[33141400 rows x 2 columns]"
      ]
     },
     "execution_count": 15,
     "metadata": {},
     "output_type": "execute_result"
    }
   ],
   "source": [
    "cleared_df"
   ]
  },
  {
   "cell_type": "code",
   "execution_count": 16,
   "id": "274ecde0",
   "metadata": {},
   "outputs": [
    {
     "data": {
      "text/plain": [
       "article_id       0\n",
       "keywords      3316\n",
       "dtype: int64"
      ]
     },
     "execution_count": 16,
     "metadata": {},
     "output_type": "execute_result"
    }
   ],
   "source": [
    "cleared_df.isna().sum()"
   ]
  },
  {
   "cell_type": "code",
   "execution_count": 20,
   "id": "1a7a302e",
   "metadata": {},
   "outputs": [],
   "source": [
    "def clean(text):\n",
    "    if isNaN(text) or (text is None):\n",
    "        return None\n",
    "    text = str(text)\n",
    "    text = text.strip()\n",
    "    alloud = [\" \", \"-\"]\n",
    "    \n",
    "    return ''.join(c for c in text if (c.isalpha()) or (c in alloud) or c.isdigit())"
   ]
  },
  {
   "cell_type": "code",
   "execution_count": 18,
   "id": "053661d1",
   "metadata": {},
   "outputs": [],
   "source": [
    "cleared_df.keywords = cleared_df.keywords.apply(lambda x: clean(x))"
   ]
  },
  {
   "cell_type": "code",
   "execution_count": 19,
   "id": "b7e1dd0f",
   "metadata": {},
   "outputs": [
    {
     "data": {
      "text/plain": [
       "article_id       0\n",
       "keywords      3316\n",
       "dtype: int64"
      ]
     },
     "execution_count": 19,
     "metadata": {},
     "output_type": "execute_result"
    }
   ],
   "source": [
    "cleared_df.isna().sum()"
   ]
  },
  {
   "cell_type": "code",
   "execution_count": 22,
   "id": "2075135d",
   "metadata": {},
   "outputs": [],
   "source": [
    "cleared_df = cleared_df.reset_index(drop=True)"
   ]
  },
  {
   "cell_type": "code",
   "execution_count": 23,
   "id": "320df6e8",
   "metadata": {},
   "outputs": [
    {
     "data": {
      "text/html": [
       "<div>\n",
       "<style scoped>\n",
       "    .dataframe tbody tr th:only-of-type {\n",
       "        vertical-align: middle;\n",
       "    }\n",
       "\n",
       "    .dataframe tbody tr th {\n",
       "        vertical-align: top;\n",
       "    }\n",
       "\n",
       "    .dataframe thead th {\n",
       "        text-align: right;\n",
       "    }\n",
       "</style>\n",
       "<table border=\"1\" class=\"dataframe\">\n",
       "  <thead>\n",
       "    <tr style=\"text-align: right;\">\n",
       "      <th></th>\n",
       "      <th>article_id</th>\n",
       "      <th>keywords</th>\n",
       "    </tr>\n",
       "  </thead>\n",
       "  <tbody>\n",
       "    <tr>\n",
       "      <th>0</th>\n",
       "      <td>53e99784b7602d9701f3e133</td>\n",
       "      <td>canopy parameters</td>\n",
       "    </tr>\n",
       "    <tr>\n",
       "      <th>1</th>\n",
       "      <td>53e99784b7602d9701f3e133</td>\n",
       "      <td>canopy spectrum</td>\n",
       "    </tr>\n",
       "    <tr>\n",
       "      <th>2</th>\n",
       "      <td>53e99784b7602d9701f3e133</td>\n",
       "      <td>different soil water content control</td>\n",
       "    </tr>\n",
       "    <tr>\n",
       "      <th>3</th>\n",
       "      <td>53e99784b7602d9701f3e133</td>\n",
       "      <td>winter wheat</td>\n",
       "    </tr>\n",
       "    <tr>\n",
       "      <th>4</th>\n",
       "      <td>53e99784b7602d9701f3e133</td>\n",
       "      <td>irrigation</td>\n",
       "    </tr>\n",
       "    <tr>\n",
       "      <th>...</th>\n",
       "      <td>...</td>\n",
       "      <td>...</td>\n",
       "    </tr>\n",
       "    <tr>\n",
       "      <th>33141395</th>\n",
       "      <td>60815a84e4510cd7c8660947</td>\n",
       "      <td>Image segmentation</td>\n",
       "    </tr>\n",
       "    <tr>\n",
       "      <th>33141396</th>\n",
       "      <td>60815a84e4510cd7c8660947</td>\n",
       "      <td>Three-dimensional displays</td>\n",
       "    </tr>\n",
       "    <tr>\n",
       "      <th>33141397</th>\n",
       "      <td>60815a84e4510cd7c8660947</td>\n",
       "      <td>Roads</td>\n",
       "    </tr>\n",
       "    <tr>\n",
       "      <th>33141398</th>\n",
       "      <td>60815a84e4510cd7c8660947</td>\n",
       "      <td>Conferences</td>\n",
       "    </tr>\n",
       "    <tr>\n",
       "      <th>33141399</th>\n",
       "      <td>60815a84e4510cd7c8660947</td>\n",
       "      <td>Semantics</td>\n",
       "    </tr>\n",
       "  </tbody>\n",
       "</table>\n",
       "<p>33141400 rows × 2 columns</p>\n",
       "</div>"
      ],
      "text/plain": [
       "                        article_id                              keywords\n",
       "0         53e99784b7602d9701f3e133                     canopy parameters\n",
       "1         53e99784b7602d9701f3e133                       canopy spectrum\n",
       "2         53e99784b7602d9701f3e133  different soil water content control\n",
       "3         53e99784b7602d9701f3e133                          winter wheat\n",
       "4         53e99784b7602d9701f3e133                            irrigation\n",
       "...                            ...                                   ...\n",
       "33141395  60815a84e4510cd7c8660947                    Image segmentation\n",
       "33141396  60815a84e4510cd7c8660947            Three-dimensional displays\n",
       "33141397  60815a84e4510cd7c8660947                                 Roads\n",
       "33141398  60815a84e4510cd7c8660947                           Conferences\n",
       "33141399  60815a84e4510cd7c8660947                             Semantics\n",
       "\n",
       "[33141400 rows x 2 columns]"
      ]
     },
     "execution_count": 23,
     "metadata": {},
     "output_type": "execute_result"
    }
   ],
   "source": [
    "cleared_df"
   ]
  },
  {
   "cell_type": "code",
   "execution_count": 24,
   "id": "a28fd255",
   "metadata": {},
   "outputs": [],
   "source": [
    "#transform ' ' to None\n",
    "\n",
    "for i in range(len(cleared_df)):\n",
    "    if cleared_df.keywords.values[i] is None:\n",
    "        continue\n",
    "    if cleared_df.keywords.values[i] == '':\n",
    "        cleared_df.loc[i, 'keywords'] = None\n",
    "        continue\n",
    "    if cleared_df.keywords.values[i][0] == ' ':\n",
    "        if set(cleared_df.keywords[i]) == set(' '):\n",
    "            cleared_df.loc[i, 'keywords'] = None"
   ]
  },
  {
   "cell_type": "markdown",
   "id": "48e79902",
   "metadata": {},
   "source": [
    "### Repeated keywords within the same article"
   ]
  },
  {
   "cell_type": "code",
   "execution_count": 25,
   "id": "fffce656",
   "metadata": {},
   "outputs": [
    {
     "data": {
      "text/html": [
       "<div>\n",
       "<style scoped>\n",
       "    .dataframe tbody tr th:only-of-type {\n",
       "        vertical-align: middle;\n",
       "    }\n",
       "\n",
       "    .dataframe tbody tr th {\n",
       "        vertical-align: top;\n",
       "    }\n",
       "\n",
       "    .dataframe thead th {\n",
       "        text-align: right;\n",
       "    }\n",
       "</style>\n",
       "<table border=\"1\" class=\"dataframe\">\n",
       "  <thead>\n",
       "    <tr style=\"text-align: right;\">\n",
       "      <th></th>\n",
       "      <th>article_id</th>\n",
       "      <th>keywords</th>\n",
       "    </tr>\n",
       "  </thead>\n",
       "  <tbody>\n",
       "    <tr>\n",
       "      <th>1005</th>\n",
       "      <td>53e99785b7602d9701f418bf</td>\n",
       "      <td>Direct Digital Frequency Synthesis</td>\n",
       "    </tr>\n",
       "    <tr>\n",
       "      <th>2071</th>\n",
       "      <td>53e99785b7602d9701f4276c</td>\n",
       "      <td>nature publishing group</td>\n",
       "    </tr>\n",
       "    <tr>\n",
       "      <th>2493</th>\n",
       "      <td>53e99785b7602d9701f4278a</td>\n",
       "      <td>nature publishing group</td>\n",
       "    </tr>\n",
       "    <tr>\n",
       "      <th>2562</th>\n",
       "      <td>53e99785b7602d9701f4278a</td>\n",
       "      <td>cell signalling</td>\n",
       "    </tr>\n",
       "    <tr>\n",
       "      <th>5268</th>\n",
       "      <td>53e9978ab7602d9701f47f50</td>\n",
       "      <td>nature publishing group</td>\n",
       "    </tr>\n",
       "    <tr>\n",
       "      <th>...</th>\n",
       "      <td>...</td>\n",
       "      <td>...</td>\n",
       "    </tr>\n",
       "    <tr>\n",
       "      <th>33127757</th>\n",
       "      <td>5fc9dc7ab0d046820d3d10a4</td>\n",
       "      <td>Partial discharges</td>\n",
       "    </tr>\n",
       "    <tr>\n",
       "      <th>33127820</th>\n",
       "      <td>5fc9dc7cb0d046820d3d138d</td>\n",
       "      <td>Data mining</td>\n",
       "    </tr>\n",
       "    <tr>\n",
       "      <th>33130148</th>\n",
       "      <td>5fd572ada4e4c3c83198e12d</td>\n",
       "      <td>Convolution</td>\n",
       "    </tr>\n",
       "    <tr>\n",
       "      <th>33130159</th>\n",
       "      <td>5fd572ada4e4c3c83198e127</td>\n",
       "      <td>Deconvolution</td>\n",
       "    </tr>\n",
       "    <tr>\n",
       "      <th>33131953</th>\n",
       "      <td>605ad9d59e795e05e0f384b7</td>\n",
       "      <td>Latency engineering</td>\n",
       "    </tr>\n",
       "  </tbody>\n",
       "</table>\n",
       "<p>199163 rows × 2 columns</p>\n",
       "</div>"
      ],
      "text/plain": [
       "                        article_id                            keywords\n",
       "1005      53e99785b7602d9701f418bf  Direct Digital Frequency Synthesis\n",
       "2071      53e99785b7602d9701f4276c             nature publishing group\n",
       "2493      53e99785b7602d9701f4278a             nature publishing group\n",
       "2562      53e99785b7602d9701f4278a                     cell signalling\n",
       "5268      53e9978ab7602d9701f47f50             nature publishing group\n",
       "...                            ...                                 ...\n",
       "33127757  5fc9dc7ab0d046820d3d10a4                  Partial discharges\n",
       "33127820  5fc9dc7cb0d046820d3d138d                         Data mining\n",
       "33130148  5fd572ada4e4c3c83198e12d                         Convolution\n",
       "33130159  5fd572ada4e4c3c83198e127                       Deconvolution\n",
       "33131953  605ad9d59e795e05e0f384b7                 Latency engineering\n",
       "\n",
       "[199163 rows x 2 columns]"
      ]
     },
     "execution_count": 25,
     "metadata": {},
     "output_type": "execute_result"
    }
   ],
   "source": [
    "cleared_df[cleared_df.duplicated()]"
   ]
  },
  {
   "cell_type": "code",
   "execution_count": 27,
   "id": "3f140438",
   "metadata": {},
   "outputs": [],
   "source": [
    "cleared_df.drop_duplicates(inplace=True)"
   ]
  },
  {
   "cell_type": "markdown",
   "id": "86c5ff3f",
   "metadata": {},
   "source": [
    "### Most popular keywords"
   ]
  },
  {
   "cell_type": "code",
   "execution_count": 30,
   "id": "bbb201cc",
   "metadata": {},
   "outputs": [],
   "source": [
    "key_popularity = cleared_df.groupby('keywords').count()"
   ]
  },
  {
   "cell_type": "code",
   "execution_count": 31,
   "id": "884580cb",
   "metadata": {},
   "outputs": [
    {
     "name": "stdout",
     "output_type": "stream",
     "text": [
      "Number of keywords with one article id: 6276051 (79.07%)\n"
     ]
    }
   ],
   "source": [
    "rare_key = len(key_popularity[key_popularity.values == 1])\n",
    "print(f'Number of keywords with one article id: {rare_key} ({round(rare_key/cleared_df.keywords.unique().shape[0] * 100,2)}%)')"
   ]
  },
  {
   "cell_type": "code",
   "execution_count": 34,
   "id": "6bd22402",
   "metadata": {},
   "outputs": [
    {
     "data": {
      "image/png": "[encoded data removed]",
      "text/plain": [
       "<Figure size 720x432 with 1 Axes>"
      ]
     },
     "metadata": {
      "needs_background": "light"
     },
     "output_type": "display_data"
    }
   ],
   "source": [
    "plt.figure(figsize=(10, 6))\n",
    "histplot_ = sns.histplot(key_popularity.article_id.apply(math.log), bins=10)\n",
    "histplot_.set_title(\"Частота упоминания keywords\", fontsize=24)\n",
    "histplot_.set_ylabel(\"Число keywords\", fontsize=20)\n",
    "histplot_.set_xlabel(\"Логарифм числа ссылок на keywords\", fontsize=20)\n",
    "plt.show()"
   ]
  },
  {
   "cell_type": "markdown",
   "id": "82faf341",
   "metadata": {},
   "source": [
    "Вывод: очень много кастомных keywords"
   ]
  },
  {
   "cell_type": "code",
   "execution_count": 35,
   "id": "94f1dc41",
   "metadata": {},
   "outputs": [],
   "source": [
    "popular_keyword = key_popularity[key_popularity.article_id > 1000].sort_values(by=['article_id'], ascending=False)"
   ]
  },
  {
   "cell_type": "code",
   "execution_count": 36,
   "id": "eb7505cc",
   "metadata": {},
   "outputs": [
    {
     "data": {
      "text/html": [
       "<div>\n",
       "<style scoped>\n",
       "    .dataframe tbody tr th:only-of-type {\n",
       "        vertical-align: middle;\n",
       "    }\n",
       "\n",
       "    .dataframe tbody tr th {\n",
       "        vertical-align: top;\n",
       "    }\n",
       "\n",
       "    .dataframe thead th {\n",
       "        text-align: right;\n",
       "    }\n",
       "</style>\n",
       "<table border=\"1\" class=\"dataframe\">\n",
       "  <thead>\n",
       "    <tr style=\"text-align: right;\">\n",
       "      <th></th>\n",
       "      <th>article_id</th>\n",
       "    </tr>\n",
       "    <tr>\n",
       "      <th>keywords</th>\n",
       "      <th></th>\n",
       "    </tr>\n",
       "  </thead>\n",
       "  <tbody>\n",
       "    <tr>\n",
       "      <th>data mining</th>\n",
       "      <td>60210</td>\n",
       "    </tr>\n",
       "    <tr>\n",
       "      <th>feature extraction</th>\n",
       "      <td>45685</td>\n",
       "    </tr>\n",
       "    <tr>\n",
       "      <th>computer science</th>\n",
       "      <td>44279</td>\n",
       "    </tr>\n",
       "    <tr>\n",
       "      <th>internet</th>\n",
       "      <td>42257</td>\n",
       "    </tr>\n",
       "    <tr>\n",
       "      <th>computational complexity</th>\n",
       "      <td>39836</td>\n",
       "    </tr>\n",
       "    <tr>\n",
       "      <th>real time</th>\n",
       "      <td>39751</td>\n",
       "    </tr>\n",
       "    <tr>\n",
       "      <th>protocols</th>\n",
       "      <td>33411</td>\n",
       "    </tr>\n",
       "    <tr>\n",
       "      <th>satisfiability</th>\n",
       "      <td>32172</td>\n",
       "    </tr>\n",
       "    <tr>\n",
       "      <th>neural network</th>\n",
       "      <td>32069</td>\n",
       "    </tr>\n",
       "    <tr>\n",
       "      <th>mathematical model</th>\n",
       "      <td>31952</td>\n",
       "    </tr>\n",
       "    <tr>\n",
       "      <th>optimization</th>\n",
       "      <td>30239</td>\n",
       "    </tr>\n",
       "    <tr>\n",
       "      <th>computational modeling</th>\n",
       "      <td>29596</td>\n",
       "    </tr>\n",
       "    <tr>\n",
       "      <th>wireless sensor networks</th>\n",
       "      <td>29299</td>\n",
       "    </tr>\n",
       "    <tr>\n",
       "      <th>quality of service</th>\n",
       "      <td>29267</td>\n",
       "    </tr>\n",
       "    <tr>\n",
       "      <th>image segmentation</th>\n",
       "      <td>28686</td>\n",
       "    </tr>\n",
       "  </tbody>\n",
       "</table>\n",
       "</div>"
      ],
      "text/plain": [
       "                          article_id\n",
       "keywords                            \n",
       "data mining                    60210\n",
       "feature extraction             45685\n",
       "computer science               44279\n",
       "internet                       42257\n",
       "computational complexity       39836\n",
       "real time                      39751\n",
       "protocols                      33411\n",
       "satisfiability                 32172\n",
       "neural network                 32069\n",
       "mathematical model             31952\n",
       "optimization                   30239\n",
       "computational modeling         29596\n",
       "wireless sensor networks       29299\n",
       "quality of service             29267\n",
       "image segmentation             28686"
      ]
     },
     "execution_count": 36,
     "metadata": {},
     "output_type": "execute_result"
    }
   ],
   "source": [
    "popular_keyword[:15]"
   ]
  },
  {
   "cell_type": "code",
   "execution_count": 37,
   "id": "b6d6def0",
   "metadata": {},
   "outputs": [],
   "source": [
    "num_of_articles = len(cleared_df.article_id.unique())"
   ]
  },
  {
   "cell_type": "code",
   "execution_count": 38,
   "id": "4c8765c9",
   "metadata": {},
   "outputs": [
    {
     "data": {
      "text/plain": [
       "3413870"
      ]
     },
     "execution_count": 38,
     "metadata": {},
     "output_type": "execute_result"
    }
   ],
   "source": [
    "num_of_articles"
   ]
  },
  {
   "cell_type": "code",
   "execution_count": 39,
   "id": "df5e38bd",
   "metadata": {},
   "outputs": [],
   "source": [
    "unique_top_keywords = len(cleared_df[cleared_df.keywords.isin(popular_keyword.index.values[:15])].article_id.unique())"
   ]
  },
  {
   "cell_type": "code",
   "execution_count": 40,
   "id": "e6cfac16",
   "metadata": {},
   "outputs": [
    {
     "data": {
      "text/plain": [
       "0.1324725311742978"
      ]
     },
     "execution_count": 40,
     "metadata": {},
     "output_type": "execute_result"
    }
   ],
   "source": [
    "unique_top_keywords / num_of_articles"
   ]
  },
  {
   "cell_type": "markdown",
   "id": "850deeca",
   "metadata": {},
   "source": [
    "Вывод: топ 15 keywords покрывают 13% имеющихся статей"
   ]
  },
  {
   "cell_type": "code",
   "execution_count": 42,
   "id": "daad4c7b",
   "metadata": {},
   "outputs": [
    {
     "data": {
      "image/png": "[encoded data removed]",
      "text/plain": [
       "<Figure size 1080x576 with 1 Axes>"
      ]
     },
     "metadata": {
      "needs_background": "light"
     },
     "output_type": "display_data"
    }
   ],
   "source": [
    "plt.figure(figsize=(15, 8))\n",
    "barplot_ = sns.barplot((popular_keyword[:15] / num_of_articles * 100).reset_index(), y='keywords', x='article_id')\n",
    "barplot_.set_title('Процентное соотношение упоминания keywords в общем числе статей', fontsize=24)\n",
    "barplot_.set_ylabel(\"Наиболее популярные keywords\", fontsize=20)\n",
    "barplot_.set_xlabel(\"% от общего количества статей\", fontsize=20)\n",
    "plt.show()"
   ]
  }
 ],
 "metadata": {
  "kernelspec": {
   "display_name": "Python 3 (ipykernel)",
   "language": "python",
   "name": "python3"
  },
  "language_info": {
   "codemirror_mode": {
    "name": "ipython",
    "version": 3
   },
   "file_extension": ".py",
   "mimetype": "text/x-python",
   "name": "python",
   "nbconvert_exporter": "python",
   "pygments_lexer": "ipython3",
   "version": "3.10.6"
  }
 },
 "nbformat": 4,
 "nbformat_minor": 5
}
