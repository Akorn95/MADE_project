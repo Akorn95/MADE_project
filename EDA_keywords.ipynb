{
 "cells": [
  {
   "cell_type": "code",
   "execution_count": 1,
   "id": "2de357a4",
   "metadata": {},
   "outputs": [],
   "source": [
    "import pandas as pd\n",
    "import matplotlib.pyplot as plt\n",
    "import numpy as np\n",
    "import math\n",
    "import re"
   ]
  },
  {
   "cell_type": "code",
   "execution_count": 2,
   "id": "0b73f35f",
   "metadata": {},
   "outputs": [],
   "source": [
    "data_keywords = pd.read_csv(\"keywords_raw.csv\")"
   ]
  },
  {
   "cell_type": "code",
   "execution_count": 3,
   "id": "ee4ca8fa",
   "metadata": {},
   "outputs": [
    {
     "data": {
      "text/html": [
       "<div>\n",
       "<style scoped>\n",
       "    .dataframe tbody tr th:only-of-type {\n",
       "        vertical-align: middle;\n",
       "    }\n",
       "\n",
       "    .dataframe tbody tr th {\n",
       "        vertical-align: top;\n",
       "    }\n",
       "\n",
       "    .dataframe thead th {\n",
       "        text-align: right;\n",
       "    }\n",
       "</style>\n",
       "<table border=\"1\" class=\"dataframe\">\n",
       "  <thead>\n",
       "    <tr style=\"text-align: right;\">\n",
       "      <th></th>\n",
       "      <th>article_id</th>\n",
       "      <th>keywords</th>\n",
       "    </tr>\n",
       "  </thead>\n",
       "  <tbody>\n",
       "    <tr>\n",
       "      <th>0</th>\n",
       "      <td>53e99784b7602d9701f3e133</td>\n",
       "      <td>canopy parameters</td>\n",
       "    </tr>\n",
       "    <tr>\n",
       "      <th>1</th>\n",
       "      <td>53e99784b7602d9701f3e133</td>\n",
       "      <td>canopy spectrum</td>\n",
       "    </tr>\n",
       "    <tr>\n",
       "      <th>2</th>\n",
       "      <td>53e99784b7602d9701f3e133</td>\n",
       "      <td>different soil water content control</td>\n",
       "    </tr>\n",
       "    <tr>\n",
       "      <th>3</th>\n",
       "      <td>53e99784b7602d9701f3e133</td>\n",
       "      <td>winter wheat</td>\n",
       "    </tr>\n",
       "    <tr>\n",
       "      <th>4</th>\n",
       "      <td>53e99784b7602d9701f3e133</td>\n",
       "      <td>irrigation</td>\n",
       "    </tr>\n",
       "    <tr>\n",
       "      <th>...</th>\n",
       "      <td>...</td>\n",
       "      <td>...</td>\n",
       "    </tr>\n",
       "    <tr>\n",
       "      <th>33141796</th>\n",
       "      <td>60815a84e4510cd7c8660947</td>\n",
       "      <td>Image segmentation</td>\n",
       "    </tr>\n",
       "    <tr>\n",
       "      <th>33141797</th>\n",
       "      <td>60815a84e4510cd7c8660947</td>\n",
       "      <td>Three-dimensional displays</td>\n",
       "    </tr>\n",
       "    <tr>\n",
       "      <th>33141798</th>\n",
       "      <td>60815a84e4510cd7c8660947</td>\n",
       "      <td>Roads</td>\n",
       "    </tr>\n",
       "    <tr>\n",
       "      <th>33141799</th>\n",
       "      <td>60815a84e4510cd7c8660947</td>\n",
       "      <td>Conferences</td>\n",
       "    </tr>\n",
       "    <tr>\n",
       "      <th>33141800</th>\n",
       "      <td>60815a84e4510cd7c8660947</td>\n",
       "      <td>Semantics</td>\n",
       "    </tr>\n",
       "  </tbody>\n",
       "</table>\n",
       "<p>33141801 rows × 2 columns</p>\n",
       "</div>"
      ],
      "text/plain": [
       "                        article_id                              keywords\n",
       "0         53e99784b7602d9701f3e133                     canopy parameters\n",
       "1         53e99784b7602d9701f3e133                       canopy spectrum\n",
       "2         53e99784b7602d9701f3e133  different soil water content control\n",
       "3         53e99784b7602d9701f3e133                          winter wheat\n",
       "4         53e99784b7602d9701f3e133                            irrigation\n",
       "...                            ...                                   ...\n",
       "33141796  60815a84e4510cd7c8660947                    Image segmentation\n",
       "33141797  60815a84e4510cd7c8660947            Three-dimensional displays\n",
       "33141798  60815a84e4510cd7c8660947                                 Roads\n",
       "33141799  60815a84e4510cd7c8660947                           Conferences\n",
       "33141800  60815a84e4510cd7c8660947                             Semantics\n",
       "\n",
       "[33141801 rows x 2 columns]"
      ]
     },
     "execution_count": 3,
     "metadata": {},
     "output_type": "execute_result"
    }
   ],
   "source": [
    "data_keywords"
   ]
  },
  {
   "cell_type": "markdown",
   "id": "2b815d75",
   "metadata": {},
   "source": [
    "### Data cleaning"
   ]
  },
  {
   "cell_type": "code",
   "execution_count": 4,
   "id": "af6411d5",
   "metadata": {},
   "outputs": [
    {
     "data": {
      "text/plain": [
       "article_id       0\n",
       "keywords      3656\n",
       "dtype: int64"
      ]
     },
     "execution_count": 4,
     "metadata": {},
     "output_type": "execute_result"
    }
   ],
   "source": [
    "data_keywords.isna().sum()"
   ]
  },
  {
   "cell_type": "code",
   "execution_count": 5,
   "id": "f464ee31",
   "metadata": {},
   "outputs": [],
   "source": [
    "def isNaN(num):\n",
    "    return num != num\n",
    "\n",
    "def clean_chevrons(text):\n",
    "    if isNaN(text):\n",
    "        return None\n",
    "    text = str(text)\n",
    "    chevrons = re.compile(\"<.*?>\")\n",
    "    return chevrons.sub('', text)"
   ]
  },
  {
   "cell_type": "code",
   "execution_count": 6,
   "id": "01ff7715",
   "metadata": {},
   "outputs": [],
   "source": [
    "data_keywords.keywords = data_keywords.keywords.apply(lambda x: clean_chevrons(x))"
   ]
  },
  {
   "cell_type": "code",
   "execution_count": 8,
   "id": "c288f4df",
   "metadata": {},
   "outputs": [],
   "source": [
    "data_keywords.loc[data_keywords.keywords == '', \"keywords\"] = np.nan"
   ]
  },
  {
   "cell_type": "code",
   "execution_count": 9,
   "id": "e197fcab",
   "metadata": {},
   "outputs": [
    {
     "data": {
      "text/plain": [
       "article_id       0\n",
       "keywords      3717\n",
       "dtype: int64"
      ]
     },
     "execution_count": 9,
     "metadata": {},
     "output_type": "execute_result"
    }
   ],
   "source": [
    "data_keywords.isna().sum()"
   ]
  },
  {
   "cell_type": "code",
   "execution_count": 10,
   "id": "fa32b635",
   "metadata": {},
   "outputs": [],
   "source": [
    "count_not_none = data_keywords[~data_keywords.article_id.isna()].groupby('article_id').count()"
   ]
  },
  {
   "cell_type": "code",
   "execution_count": 11,
   "id": "c6e452eb",
   "metadata": {},
   "outputs": [],
   "source": [
    "count_not_none = count_not_none[count_not_none.keywords > 0]"
   ]
  },
  {
   "cell_type": "code",
   "execution_count": 12,
   "id": "0d54146f",
   "metadata": {},
   "outputs": [
    {
     "data": {
      "text/html": [
       "<div>\n",
       "<style scoped>\n",
       "    .dataframe tbody tr th:only-of-type {\n",
       "        vertical-align: middle;\n",
       "    }\n",
       "\n",
       "    .dataframe tbody tr th {\n",
       "        vertical-align: top;\n",
       "    }\n",
       "\n",
       "    .dataframe thead th {\n",
       "        text-align: right;\n",
       "    }\n",
       "</style>\n",
       "<table border=\"1\" class=\"dataframe\">\n",
       "  <thead>\n",
       "    <tr style=\"text-align: right;\">\n",
       "      <th></th>\n",
       "      <th>keywords</th>\n",
       "    </tr>\n",
       "    <tr>\n",
       "      <th>article_id</th>\n",
       "      <th></th>\n",
       "    </tr>\n",
       "  </thead>\n",
       "  <tbody>\n",
       "    <tr>\n",
       "      <th>53e99784b7602d9701f3e133</th>\n",
       "      <td>17</td>\n",
       "    </tr>\n",
       "    <tr>\n",
       "      <th>53e99784b7602d9701f3e151</th>\n",
       "      <td>11</td>\n",
       "    </tr>\n",
       "    <tr>\n",
       "      <th>53e99784b7602d9701f3e15d</th>\n",
       "      <td>33</td>\n",
       "    </tr>\n",
       "    <tr>\n",
       "      <th>53e99784b7602d9701f3e161</th>\n",
       "      <td>4</td>\n",
       "    </tr>\n",
       "    <tr>\n",
       "      <th>53e99784b7602d9701f3e4f4</th>\n",
       "      <td>10</td>\n",
       "    </tr>\n",
       "    <tr>\n",
       "      <th>...</th>\n",
       "      <td>...</td>\n",
       "    </tr>\n",
       "    <tr>\n",
       "      <th>60815a84e4510cd7c8660930</th>\n",
       "      <td>7</td>\n",
       "    </tr>\n",
       "    <tr>\n",
       "      <th>60815a84e4510cd7c8660939</th>\n",
       "      <td>7</td>\n",
       "    </tr>\n",
       "    <tr>\n",
       "      <th>60815a84e4510cd7c866093e</th>\n",
       "      <td>7</td>\n",
       "    </tr>\n",
       "    <tr>\n",
       "      <th>60815a84e4510cd7c8660943</th>\n",
       "      <td>7</td>\n",
       "    </tr>\n",
       "    <tr>\n",
       "      <th>60815a84e4510cd7c8660947</th>\n",
       "      <td>7</td>\n",
       "    </tr>\n",
       "  </tbody>\n",
       "</table>\n",
       "<p>3410554 rows × 1 columns</p>\n",
       "</div>"
      ],
      "text/plain": [
       "                          keywords\n",
       "article_id                        \n",
       "53e99784b7602d9701f3e133        17\n",
       "53e99784b7602d9701f3e151        11\n",
       "53e99784b7602d9701f3e15d        33\n",
       "53e99784b7602d9701f3e161         4\n",
       "53e99784b7602d9701f3e4f4        10\n",
       "...                            ...\n",
       "60815a84e4510cd7c8660930         7\n",
       "60815a84e4510cd7c8660939         7\n",
       "60815a84e4510cd7c866093e         7\n",
       "60815a84e4510cd7c8660943         7\n",
       "60815a84e4510cd7c8660947         7\n",
       "\n",
       "[3410554 rows x 1 columns]"
      ]
     },
     "execution_count": 12,
     "metadata": {},
     "output_type": "execute_result"
    }
   ],
   "source": [
    "count_not_none"
   ]
  },
  {
   "cell_type": "code",
   "execution_count": 13,
   "id": "04029014",
   "metadata": {},
   "outputs": [],
   "source": [
    "none_keywords = data_keywords[data_keywords.keywords.isna()]"
   ]
  },
  {
   "cell_type": "code",
   "execution_count": 15,
   "id": "ad72116d",
   "metadata": {},
   "outputs": [],
   "source": [
    "to_drop = list(none_keywords.merge(count_not_none, on = 'article_id', how = 'inner').article_id)"
   ]
  },
  {
   "cell_type": "code",
   "execution_count": 16,
   "id": "d8bae430",
   "metadata": {
    "scrolled": true
   },
   "outputs": [
    {
     "data": {
      "text/plain": [
       "401"
      ]
     },
     "execution_count": 16,
     "metadata": {},
     "output_type": "execute_result"
    }
   ],
   "source": [
    "len(to_drop)"
   ]
  },
  {
   "cell_type": "code",
   "execution_count": 17,
   "id": "ba886618",
   "metadata": {},
   "outputs": [],
   "source": [
    "# drop NaN if \"artical_id\" has several keywords\n",
    "\n",
    "cleared_df = data_keywords.drop(none_keywords[none_keywords.article_id.isin(to_drop)].index)"
   ]
  },
  {
   "cell_type": "code",
   "execution_count": 18,
   "id": "0f00397c",
   "metadata": {
    "scrolled": false
   },
   "outputs": [
    {
     "data": {
      "text/html": [
       "<div>\n",
       "<style scoped>\n",
       "    .dataframe tbody tr th:only-of-type {\n",
       "        vertical-align: middle;\n",
       "    }\n",
       "\n",
       "    .dataframe tbody tr th {\n",
       "        vertical-align: top;\n",
       "    }\n",
       "\n",
       "    .dataframe thead th {\n",
       "        text-align: right;\n",
       "    }\n",
       "</style>\n",
       "<table border=\"1\" class=\"dataframe\">\n",
       "  <thead>\n",
       "    <tr style=\"text-align: right;\">\n",
       "      <th></th>\n",
       "      <th>article_id</th>\n",
       "      <th>keywords</th>\n",
       "    </tr>\n",
       "  </thead>\n",
       "  <tbody>\n",
       "    <tr>\n",
       "      <th>0</th>\n",
       "      <td>53e99784b7602d9701f3e133</td>\n",
       "      <td>canopy parameters</td>\n",
       "    </tr>\n",
       "    <tr>\n",
       "      <th>1</th>\n",
       "      <td>53e99784b7602d9701f3e133</td>\n",
       "      <td>canopy spectrum</td>\n",
       "    </tr>\n",
       "    <tr>\n",
       "      <th>2</th>\n",
       "      <td>53e99784b7602d9701f3e133</td>\n",
       "      <td>different soil water content control</td>\n",
       "    </tr>\n",
       "    <tr>\n",
       "      <th>3</th>\n",
       "      <td>53e99784b7602d9701f3e133</td>\n",
       "      <td>winter wheat</td>\n",
       "    </tr>\n",
       "    <tr>\n",
       "      <th>4</th>\n",
       "      <td>53e99784b7602d9701f3e133</td>\n",
       "      <td>irrigation</td>\n",
       "    </tr>\n",
       "    <tr>\n",
       "      <th>...</th>\n",
       "      <td>...</td>\n",
       "      <td>...</td>\n",
       "    </tr>\n",
       "    <tr>\n",
       "      <th>33141796</th>\n",
       "      <td>60815a84e4510cd7c8660947</td>\n",
       "      <td>Image segmentation</td>\n",
       "    </tr>\n",
       "    <tr>\n",
       "      <th>33141797</th>\n",
       "      <td>60815a84e4510cd7c8660947</td>\n",
       "      <td>Three-dimensional displays</td>\n",
       "    </tr>\n",
       "    <tr>\n",
       "      <th>33141798</th>\n",
       "      <td>60815a84e4510cd7c8660947</td>\n",
       "      <td>Roads</td>\n",
       "    </tr>\n",
       "    <tr>\n",
       "      <th>33141799</th>\n",
       "      <td>60815a84e4510cd7c8660947</td>\n",
       "      <td>Conferences</td>\n",
       "    </tr>\n",
       "    <tr>\n",
       "      <th>33141800</th>\n",
       "      <td>60815a84e4510cd7c8660947</td>\n",
       "      <td>Semantics</td>\n",
       "    </tr>\n",
       "  </tbody>\n",
       "</table>\n",
       "<p>33141400 rows × 2 columns</p>\n",
       "</div>"
      ],
      "text/plain": [
       "                        article_id                              keywords\n",
       "0         53e99784b7602d9701f3e133                     canopy parameters\n",
       "1         53e99784b7602d9701f3e133                       canopy spectrum\n",
       "2         53e99784b7602d9701f3e133  different soil water content control\n",
       "3         53e99784b7602d9701f3e133                          winter wheat\n",
       "4         53e99784b7602d9701f3e133                            irrigation\n",
       "...                            ...                                   ...\n",
       "33141796  60815a84e4510cd7c8660947                    Image segmentation\n",
       "33141797  60815a84e4510cd7c8660947            Three-dimensional displays\n",
       "33141798  60815a84e4510cd7c8660947                                 Roads\n",
       "33141799  60815a84e4510cd7c8660947                           Conferences\n",
       "33141800  60815a84e4510cd7c8660947                             Semantics\n",
       "\n",
       "[33141400 rows x 2 columns]"
      ]
     },
     "execution_count": 18,
     "metadata": {},
     "output_type": "execute_result"
    }
   ],
   "source": [
    "cleared_df"
   ]
  },
  {
   "cell_type": "code",
   "execution_count": 19,
   "id": "274ecde0",
   "metadata": {},
   "outputs": [
    {
     "data": {
      "text/plain": [
       "article_id       0\n",
       "keywords      3316\n",
       "dtype: int64"
      ]
     },
     "execution_count": 19,
     "metadata": {},
     "output_type": "execute_result"
    }
   ],
   "source": [
    "cleared_df.isna().sum()"
   ]
  },
  {
   "cell_type": "code",
   "execution_count": 20,
   "id": "1a7a302e",
   "metadata": {},
   "outputs": [],
   "source": [
    "def clean(text):\n",
    "    if isNaN(text) or (text is None):\n",
    "        return None\n",
    "    text = str(text)\n",
    "    alloud = [\" \", \"-\"]\n",
    "    \n",
    "    return ''.join(c for c in text if (c.isalpha()) or (c in alloud) or c.isdigit())"
   ]
  },
  {
   "cell_type": "code",
   "execution_count": 21,
   "id": "053661d1",
   "metadata": {},
   "outputs": [],
   "source": [
    "cleared_df.keywords = cleared_df.keywords.apply(lambda x: clean(x))"
   ]
  },
  {
   "cell_type": "code",
   "execution_count": 22,
   "id": "b7e1dd0f",
   "metadata": {},
   "outputs": [
    {
     "data": {
      "text/plain": [
       "article_id       0\n",
       "keywords      3316\n",
       "dtype: int64"
      ]
     },
     "execution_count": 22,
     "metadata": {},
     "output_type": "execute_result"
    }
   ],
   "source": [
    "cleared_df.isna().sum()"
   ]
  },
  {
   "cell_type": "code",
   "execution_count": 23,
   "id": "6c497814",
   "metadata": {},
   "outputs": [
    {
     "data": {
      "text/plain": [
       "33141400"
      ]
     },
     "execution_count": 23,
     "metadata": {},
     "output_type": "execute_result"
    }
   ],
   "source": [
    "len(cleared_df)"
   ]
  },
  {
   "cell_type": "code",
   "execution_count": 24,
   "id": "2075135d",
   "metadata": {},
   "outputs": [],
   "source": [
    "cleared_df = cleared_df.reset_index(drop=True)"
   ]
  },
  {
   "cell_type": "code",
   "execution_count": 25,
   "id": "320df6e8",
   "metadata": {},
   "outputs": [
    {
     "data": {
      "text/html": [
       "<div>\n",
       "<style scoped>\n",
       "    .dataframe tbody tr th:only-of-type {\n",
       "        vertical-align: middle;\n",
       "    }\n",
       "\n",
       "    .dataframe tbody tr th {\n",
       "        vertical-align: top;\n",
       "    }\n",
       "\n",
       "    .dataframe thead th {\n",
       "        text-align: right;\n",
       "    }\n",
       "</style>\n",
       "<table border=\"1\" class=\"dataframe\">\n",
       "  <thead>\n",
       "    <tr style=\"text-align: right;\">\n",
       "      <th></th>\n",
       "      <th>article_id</th>\n",
       "      <th>keywords</th>\n",
       "    </tr>\n",
       "  </thead>\n",
       "  <tbody>\n",
       "    <tr>\n",
       "      <th>0</th>\n",
       "      <td>53e99784b7602d9701f3e133</td>\n",
       "      <td>canopy parameters</td>\n",
       "    </tr>\n",
       "    <tr>\n",
       "      <th>1</th>\n",
       "      <td>53e99784b7602d9701f3e133</td>\n",
       "      <td>canopy spectrum</td>\n",
       "    </tr>\n",
       "    <tr>\n",
       "      <th>2</th>\n",
       "      <td>53e99784b7602d9701f3e133</td>\n",
       "      <td>different soil water content control</td>\n",
       "    </tr>\n",
       "    <tr>\n",
       "      <th>3</th>\n",
       "      <td>53e99784b7602d9701f3e133</td>\n",
       "      <td>winter wheat</td>\n",
       "    </tr>\n",
       "    <tr>\n",
       "      <th>4</th>\n",
       "      <td>53e99784b7602d9701f3e133</td>\n",
       "      <td>irrigation</td>\n",
       "    </tr>\n",
       "    <tr>\n",
       "      <th>...</th>\n",
       "      <td>...</td>\n",
       "      <td>...</td>\n",
       "    </tr>\n",
       "    <tr>\n",
       "      <th>33141395</th>\n",
       "      <td>60815a84e4510cd7c8660947</td>\n",
       "      <td>Image segmentation</td>\n",
       "    </tr>\n",
       "    <tr>\n",
       "      <th>33141396</th>\n",
       "      <td>60815a84e4510cd7c8660947</td>\n",
       "      <td>Three-dimensional displays</td>\n",
       "    </tr>\n",
       "    <tr>\n",
       "      <th>33141397</th>\n",
       "      <td>60815a84e4510cd7c8660947</td>\n",
       "      <td>Roads</td>\n",
       "    </tr>\n",
       "    <tr>\n",
       "      <th>33141398</th>\n",
       "      <td>60815a84e4510cd7c8660947</td>\n",
       "      <td>Conferences</td>\n",
       "    </tr>\n",
       "    <tr>\n",
       "      <th>33141399</th>\n",
       "      <td>60815a84e4510cd7c8660947</td>\n",
       "      <td>Semantics</td>\n",
       "    </tr>\n",
       "  </tbody>\n",
       "</table>\n",
       "<p>33141400 rows × 2 columns</p>\n",
       "</div>"
      ],
      "text/plain": [
       "                        article_id                              keywords\n",
       "0         53e99784b7602d9701f3e133                     canopy parameters\n",
       "1         53e99784b7602d9701f3e133                       canopy spectrum\n",
       "2         53e99784b7602d9701f3e133  different soil water content control\n",
       "3         53e99784b7602d9701f3e133                          winter wheat\n",
       "4         53e99784b7602d9701f3e133                            irrigation\n",
       "...                            ...                                   ...\n",
       "33141395  60815a84e4510cd7c8660947                    Image segmentation\n",
       "33141396  60815a84e4510cd7c8660947            Three-dimensional displays\n",
       "33141397  60815a84e4510cd7c8660947                                 Roads\n",
       "33141398  60815a84e4510cd7c8660947                           Conferences\n",
       "33141399  60815a84e4510cd7c8660947                             Semantics\n",
       "\n",
       "[33141400 rows x 2 columns]"
      ]
     },
     "execution_count": 25,
     "metadata": {},
     "output_type": "execute_result"
    }
   ],
   "source": [
    "cleared_df"
   ]
  },
  {
   "cell_type": "code",
   "execution_count": 26,
   "id": "a28fd255",
   "metadata": {},
   "outputs": [],
   "source": [
    "#transform ' ' to None\n",
    "\n",
    "for i in range(len(cleared_df)):\n",
    "    if cleared_df.keywords.values[i] is None:\n",
    "        continue\n",
    "    if cleared_df.keywords.values[i] == '':\n",
    "        cleared_df.loc[i, 'keywords'] = None\n",
    "        continue\n",
    "    if cleared_df.keywords.values[i][0] == ' ':\n",
    "        if set(cleared_df.keywords[i]) == set(' '):\n",
    "            cleared_df.loc[i, 'keywords'] = None"
   ]
  },
  {
   "cell_type": "code",
   "execution_count": 27,
   "id": "bbb201cc",
   "metadata": {},
   "outputs": [],
   "source": [
    "key_popularity = cleared_df.groupby('keywords').count()"
   ]
  },
  {
   "cell_type": "code",
   "execution_count": 30,
   "id": "884580cb",
   "metadata": {},
   "outputs": [
    {
     "name": "stdout",
     "output_type": "stream",
     "text": [
      "Number of keywords with one article id: 6371905 (79.07%)\n"
     ]
    }
   ],
   "source": [
    "rare_key = len(key_popularity[key_popularity.values == 1])\n",
    "print(f'Number of keywords with one article id: {rare_key} ({round(rare_key/cleared_df.keywords.unique().shape[0] * 100,2)}%)')"
   ]
  },
  {
   "cell_type": "code",
   "execution_count": 31,
   "id": "6bd22402",
   "metadata": {},
   "outputs": [
    {
     "data": {
      "text/plain": [
       "(array([7.421975e+06, 4.014490e+05, 1.499610e+05, 5.432300e+04,\n",
       "        1.929600e+04, 7.280000e+03, 2.850000e+03, 1.031000e+03,\n",
       "        2.970000e+02, 4.100000e+01]),\n",
       " array([ 0.        ,  1.10206271,  2.20412543,  3.30618814,  4.40825086,\n",
       "         5.51031357,  6.61237629,  7.714439  ,  8.81650172,  9.91856443,\n",
       "        11.02062715]),\n",
       " <BarContainer object of 10 artists>)"
      ]
     },
     "execution_count": 31,
     "metadata": {},
     "output_type": "execute_result"
    },
    {
     "data": {
      "image/png": "[encoded data removed]",
      "text/plain": [
       "<Figure size 432x288 with 1 Axes>"
      ]
     },
     "metadata": {
      "needs_background": "light"
     },
     "output_type": "display_data"
    }
   ],
   "source": [
    "plt.title(\"Частота упоминания keywords\")\n",
    "plt.xlabel(\"логарифм числа ссылок на keywords\")\n",
    "plt.hist(key_popularity.article_id.apply(math.log), bins=10)"
   ]
  },
  {
   "cell_type": "markdown",
   "id": "82faf341",
   "metadata": {},
   "source": [
    "Вывод: очень много кастомных keywords"
   ]
  },
  {
   "cell_type": "markdown",
   "id": "86c5ff3f",
   "metadata": {},
   "source": [
    "### Most popular keywords"
   ]
  },
  {
   "cell_type": "code",
   "execution_count": 48,
   "id": "72ef16e9",
   "metadata": {},
   "outputs": [
    {
     "data": {
      "text/html": [
       "<div>\n",
       "<style scoped>\n",
       "    .dataframe tbody tr th:only-of-type {\n",
       "        vertical-align: middle;\n",
       "    }\n",
       "\n",
       "    .dataframe tbody tr th {\n",
       "        vertical-align: top;\n",
       "    }\n",
       "\n",
       "    .dataframe thead th {\n",
       "        text-align: right;\n",
       "    }\n",
       "</style>\n",
       "<table border=\"1\" class=\"dataframe\">\n",
       "  <thead>\n",
       "    <tr style=\"text-align: right;\">\n",
       "      <th></th>\n",
       "      <th>article_id</th>\n",
       "    </tr>\n",
       "    <tr>\n",
       "      <th>keywords</th>\n",
       "      <th></th>\n",
       "    </tr>\n",
       "  </thead>\n",
       "  <tbody>\n",
       "    <tr>\n",
       "      <th>data mining</th>\n",
       "      <td>61122</td>\n",
       "    </tr>\n",
       "    <tr>\n",
       "      <th>feature extraction</th>\n",
       "      <td>47231</td>\n",
       "    </tr>\n",
       "    <tr>\n",
       "      <th>computer science</th>\n",
       "      <td>44283</td>\n",
       "    </tr>\n",
       "    <tr>\n",
       "      <th>internet</th>\n",
       "      <td>42266</td>\n",
       "    </tr>\n",
       "    <tr>\n",
       "      <th>computational complexity</th>\n",
       "      <td>41765</td>\n",
       "    </tr>\n",
       "    <tr>\n",
       "      <th>...</th>\n",
       "      <td>...</td>\n",
       "    </tr>\n",
       "    <tr>\n",
       "      <th>gemination effect</th>\n",
       "      <td>1</td>\n",
       "    </tr>\n",
       "    <tr>\n",
       "      <th>NDVIAVHRR image time series</th>\n",
       "      <td>1</td>\n",
       "    </tr>\n",
       "    <tr>\n",
       "      <th>geminated consonant</th>\n",
       "      <td>1</td>\n",
       "    </tr>\n",
       "    <tr>\n",
       "      <th>geminate consonants</th>\n",
       "      <td>1</td>\n",
       "    </tr>\n",
       "    <tr>\n",
       "      <th>𝜃</th>\n",
       "      <td>1</td>\n",
       "    </tr>\n",
       "  </tbody>\n",
       "</table>\n",
       "<p>8058503 rows × 1 columns</p>\n",
       "</div>"
      ],
      "text/plain": [
       "                             article_id\n",
       "keywords                               \n",
       "data mining                       61122\n",
       "feature extraction                47231\n",
       "computer science                  44283\n",
       "internet                          42266\n",
       "computational complexity          41765\n",
       "...                                 ...\n",
       "gemination effect                     1\n",
       "NDVIAVHRR image time series           1\n",
       "geminated consonant                   1\n",
       "geminate consonants                   1\n",
       "𝜃                                     1\n",
       "\n",
       "[8058503 rows x 1 columns]"
      ]
     },
     "execution_count": 48,
     "metadata": {},
     "output_type": "execute_result"
    }
   ],
   "source": [
    "key_popularity.sort_values(by=['article_id'], ascending=False)"
   ]
  }
 ],
 "metadata": {
  "kernelspec": {
   "display_name": "Python 3 (ipykernel)",
   "language": "python",
   "name": "python3"
  },
  "language_info": {
   "codemirror_mode": {
    "name": "ipython",
    "version": 3
   },
   "file_extension": ".py",
   "mimetype": "text/x-python",
   "name": "python",
   "nbconvert_exporter": "python",
   "pygments_lexer": "ipython3",
   "version": "3.10.6"
  }
 },
 "nbformat": 4,
 "nbformat_minor": 5
}
