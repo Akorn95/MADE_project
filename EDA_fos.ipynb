{
 "cells": [
  {
   "cell_type": "code",
   "execution_count": 1,
   "id": "2de357a4",
   "metadata": {},
   "outputs": [],
   "source": [
    "import pandas as pd\n",
    "import matplotlib.pyplot as plt\n",
    "import numpy as np\n",
    "import math"
   ]
  },
  {
   "cell_type": "code",
   "execution_count": 2,
   "id": "c0ecb94f",
   "metadata": {},
   "outputs": [],
   "source": [
    "data_fos = pd.read_csv(\"fos_raw.csv\")"
   ]
  },
  {
   "cell_type": "code",
   "execution_count": 3,
   "id": "8fccd9c3",
   "metadata": {},
   "outputs": [
    {
     "data": {
      "text/html": [
       "<div>\n",
       "<style scoped>\n",
       "    .dataframe tbody tr th:only-of-type {\n",
       "        vertical-align: middle;\n",
       "    }\n",
       "\n",
       "    .dataframe tbody tr th {\n",
       "        vertical-align: top;\n",
       "    }\n",
       "\n",
       "    .dataframe thead th {\n",
       "        text-align: right;\n",
       "    }\n",
       "</style>\n",
       "<table border=\"1\" class=\"dataframe\">\n",
       "  <thead>\n",
       "    <tr style=\"text-align: right;\">\n",
       "      <th></th>\n",
       "      <th>article_id</th>\n",
       "      <th>fos</th>\n",
       "    </tr>\n",
       "  </thead>\n",
       "  <tbody>\n",
       "    <tr>\n",
       "      <th>0</th>\n",
       "      <td>53e99784b7602d9701f3e133</td>\n",
       "      <td>Agronomy</td>\n",
       "    </tr>\n",
       "    <tr>\n",
       "      <th>1</th>\n",
       "      <td>53e99784b7602d9701f3e133</td>\n",
       "      <td>Moisture</td>\n",
       "    </tr>\n",
       "    <tr>\n",
       "      <th>2</th>\n",
       "      <td>53e99784b7602d9701f3e133</td>\n",
       "      <td>Hydrology</td>\n",
       "    </tr>\n",
       "    <tr>\n",
       "      <th>3</th>\n",
       "      <td>53e99784b7602d9701f3e133</td>\n",
       "      <td>Environmental science</td>\n",
       "    </tr>\n",
       "    <tr>\n",
       "      <th>4</th>\n",
       "      <td>53e99784b7602d9701f3e133</td>\n",
       "      <td>Dry weight</td>\n",
       "    </tr>\n",
       "    <tr>\n",
       "      <th>...</th>\n",
       "      <td>...</td>\n",
       "      <td>...</td>\n",
       "    </tr>\n",
       "    <tr>\n",
       "      <th>45625710</th>\n",
       "      <td>607544c6e4510cd7c837482c</td>\n",
       "      <td>Classical mechanics</td>\n",
       "    </tr>\n",
       "    <tr>\n",
       "      <th>45625711</th>\n",
       "      <td>607544c6e4510cd7c837482c</td>\n",
       "      <td>Nonlinear Schrödinger equation</td>\n",
       "    </tr>\n",
       "    <tr>\n",
       "      <th>45625712</th>\n",
       "      <td>607544c6e4510cd7c837482c</td>\n",
       "      <td>Particle</td>\n",
       "    </tr>\n",
       "    <tr>\n",
       "      <th>45625713</th>\n",
       "      <td>607544c6e4510cd7c837482c</td>\n",
       "      <td>Mathematics</td>\n",
       "    </tr>\n",
       "    <tr>\n",
       "      <th>45625714</th>\n",
       "      <td>607544c6e4510cd7c837482c</td>\n",
       "      <td>Atomic nucleus</td>\n",
       "    </tr>\n",
       "  </tbody>\n",
       "</table>\n",
       "<p>45625715 rows × 2 columns</p>\n",
       "</div>"
      ],
      "text/plain": [
       "                        article_id                             fos\n",
       "0         53e99784b7602d9701f3e133                        Agronomy\n",
       "1         53e99784b7602d9701f3e133                        Moisture\n",
       "2         53e99784b7602d9701f3e133                       Hydrology\n",
       "3         53e99784b7602d9701f3e133           Environmental science\n",
       "4         53e99784b7602d9701f3e133                      Dry weight\n",
       "...                            ...                             ...\n",
       "45625710  607544c6e4510cd7c837482c             Classical mechanics\n",
       "45625711  607544c6e4510cd7c837482c  Nonlinear Schrödinger equation\n",
       "45625712  607544c6e4510cd7c837482c                        Particle\n",
       "45625713  607544c6e4510cd7c837482c                     Mathematics\n",
       "45625714  607544c6e4510cd7c837482c                  Atomic nucleus\n",
       "\n",
       "[45625715 rows x 2 columns]"
      ]
     },
     "execution_count": 3,
     "metadata": {},
     "output_type": "execute_result"
    }
   ],
   "source": [
    "data_fos"
   ]
  },
  {
   "cell_type": "code",
   "execution_count": 4,
   "id": "c0a3cbdd",
   "metadata": {},
   "outputs": [
    {
     "data": {
      "text/plain": [
       "article_id     0\n",
       "fos           13\n",
       "dtype: int64"
      ]
     },
     "execution_count": 4,
     "metadata": {},
     "output_type": "execute_result"
    }
   ],
   "source": [
    "data_fos.isna().sum()"
   ]
  },
  {
   "cell_type": "code",
   "execution_count": 5,
   "id": "12d060fb",
   "metadata": {},
   "outputs": [
    {
     "data": {
      "text/plain": [
       "(4935889,)"
      ]
     },
     "execution_count": 5,
     "metadata": {},
     "output_type": "execute_result"
    }
   ],
   "source": [
    "data_fos.article_id.unique().shape"
   ]
  },
  {
   "cell_type": "code",
   "execution_count": 18,
   "id": "f494a461",
   "metadata": {},
   "outputs": [
    {
     "data": {
      "text/plain": [
       "(166002,)"
      ]
     },
     "execution_count": 18,
     "metadata": {},
     "output_type": "execute_result"
    }
   ],
   "source": [
    "data_fos.fos.unique().shape"
   ]
  },
  {
   "cell_type": "code",
   "execution_count": 6,
   "id": "6380faf9",
   "metadata": {},
   "outputs": [],
   "source": [
    "article_nan = list(data_fos[data_fos.fos.isna()].article_id)"
   ]
  },
  {
   "cell_type": "code",
   "execution_count": 7,
   "id": "c5b0d251",
   "metadata": {},
   "outputs": [
    {
     "name": "stdout",
     "output_type": "stream",
     "text": [
      "                      article_id                  fos\n",
      "756001  53e9991cb7602d97021585bd                  NaN\n",
      "756002  53e9991cb7602d97021585bd       Floating point\n",
      "756003  53e9991cb7602d97021585bd     Computer science\n",
      "756004  53e9991cb7602d97021585bd           Arithmetic\n",
      "756005  53e9991cb7602d97021585bd  IEEE floating point\n",
      "                       article_id                           fos\n",
      "1635851  53e99a92b7602d970230ad3f                           NaN\n",
      "1635852  53e99a92b7602d970230ad3f                    Arithmetic\n",
      "1635853  53e99a92b7602d970230ad3f  Theoretical computer science\n",
      "1635854  53e99a92b7602d970230ad3f                     Minifloat\n",
      "1635855  53e99a92b7602d970230ad3f                   Signed zero\n",
      "1635856  53e99a92b7602d970230ad3f           Interval arithmetic\n",
      "1635857  53e99a92b7602d970230ad3f                   Mathematics\n",
      "                       article_id                                     fos\n",
      "4918755  53e9a02db7602d9702914f00                                     NaN\n",
      "4918756  53e9a02db7602d9702914f00  Double-precision floating-point format\n",
      "4918757  53e9a02db7602d9702914f00                              Arithmetic\n",
      "4918758  53e9a02db7602d9702914f00                         Machine epsilon\n",
      "4918759  53e9a02db7602d9702914f00                          Binary scaling\n",
      "4918760  53e9a02db7602d9702914f00                  Decimal floating point\n",
      "4918761  53e9a02db7602d9702914f00                               Minifloat\n",
      "4918762  53e9a02db7602d9702914f00                   Saturation arithmetic\n",
      "4918763  53e9a02db7602d9702914f00                     IEEE floating point\n",
      "4918764  53e9a02db7602d9702914f00                             Mathematics\n",
      "                       article_id                             fos\n",
      "9603989  53e9a8ffb7602d970324cca4                             NaN\n",
      "9603990  53e9a8ffb7602d970324cca4                         Algebra\n",
      "9603991  53e9a8ffb7602d970324cca4  Arbitrary-precision arithmetic\n",
      "9603992  53e9a8ffb7602d970324cca4                        Infinity\n",
      "9603993  53e9a8ffb7602d970324cca4                      Arithmetic\n",
      "9603994  53e9a8ffb7602d970324cca4                 Machine epsilon\n",
      "9603995  53e9a8ffb7602d970324cca4                       Minifloat\n",
      "9603996  53e9a8ffb7602d970324cca4           Saturation arithmetic\n",
      "9603997  53e9a8ffb7602d970324cca4   Arithmetic circuit complexity\n",
      "9603998  53e9a8ffb7602d970324cca4             IEEE floating point\n",
      "9603999  53e9a8ffb7602d970324cca4                     Mathematics\n",
      "                        article_id                      fos\n",
      "14962170  53e9b246b7602d9703ce5e85  Central processing unit\n",
      "14962171  53e9b246b7602d9703ce5e85               Programmer\n",
      "14962172  53e9b246b7602d9703ce5e85     Programming language\n",
      "14962173  53e9b246b7602d9703ce5e85                      NaN\n",
      "14962174  53e9b246b7602d9703ce5e85         Computer science\n",
      "14962175  53e9b246b7602d9703ce5e85           Floating point\n",
      "14962176  53e9b246b7602d9703ce5e85                 Software\n",
      "14962177  53e9b246b7602d9703ce5e85     Software portability\n",
      "14962178  53e9b246b7602d9703ce5e85      IEEE floating point\n",
      "14962179  53e9b246b7602d9703ce5e85                Debugging\n",
      "                        article_id                     fos\n",
      "16413790  53e9b4b9b7602d9703fcefd4  Specification language\n",
      "16413791  53e9b4b9b7602d9703fcefd4    Programming language\n",
      "16413792  53e9b4b9b7602d9703fcefd4                     NaN\n",
      "16413793  53e9b4b9b7602d9703fcefd4     Floating-point unit\n",
      "16413794  53e9b4b9b7602d9703fcefd4          Floating point\n",
      "16413795  53e9b4b9b7602d9703fcefd4        Computer science\n",
      "16413796  53e9b4b9b7602d9703fcefd4    Formal specification\n",
      "16413797  53e9b4b9b7602d9703fcefd4               Minifloat\n",
      "16413798  53e9b4b9b7602d9703fcefd4          Formal methods\n",
      "16413799  53e9b4b9b7602d9703fcefd4     Formal verification\n",
      "                        article_id                     fos\n",
      "18361679  53e9b808b7602d97043bfec2                     NaN\n",
      "18361680  53e9b808b7602d97043bfec2        Computer science\n",
      "18361681  53e9b808b7602d97043bfec2          Floating point\n",
      "18361682  53e9b808b7602d97043bfec2              Arithmetic\n",
      "18361683  53e9b808b7602d97043bfec2          Binary scaling\n",
      "18361684  53e9b808b7602d97043bfec2           IEEE 754-1985\n",
      "18361685  53e9b808b7602d97043bfec2               Minifloat\n",
      "18361686  53e9b808b7602d97043bfec2  Decimal floating point\n",
      "18361687  53e9b808b7602d97043bfec2     IEEE floating point\n",
      "                        article_id                            fos\n",
      "19086564  53e9b93eb7602d9704527948  Prototype Verification System\n",
      "19086565  53e9b93eb7602d9704527948             Division algorithm\n",
      "19086566  53e9b93eb7602d9704527948              Subtractive color\n",
      "19086567  53e9b93eb7602d9704527948       Parameterized complexity\n",
      "19086568  53e9b93eb7602d9704527948                            NaN\n",
      "19086569  53e9b93eb7602d9704527948               Computer science\n",
      "19086570  53e9b93eb7602d9704527948                 Floating point\n",
      "19086571  53e9b93eb7602d9704527948      Automated theorem proving\n",
      "19086572  53e9b93eb7602d9704527948                      Algorithm\n",
      "19086573  53e9b93eb7602d9704527948                      Minifloat\n",
      "                        article_id                                     fos\n",
      "21458607  53e9bd50b7602d97049e16da                                     NaN\n",
      "21458608  53e9bd50b7602d97049e16da                        Computer science\n",
      "21458609  53e9bd50b7602d97049e16da                      Parallel computing\n",
      "21458610  53e9bd50b7602d97049e16da  Double-precision floating-point format\n",
      "21458611  53e9bd50b7602d97049e16da         High-level programming language\n",
      "21458612  53e9bd50b7602d97049e16da                          Binary scaling\n",
      "21458613  53e9bd50b7602d97049e16da                           IEEE 754-1985\n",
      "21458614  53e9bd50b7602d97049e16da                  Decimal floating point\n",
      "21458615  53e9bd50b7602d97049e16da                               Minifloat\n",
      "21458616  53e9bd50b7602d97049e16da                     IEEE floating point\n",
      "                        article_id                                     fos\n",
      "24933537  557dc343d19faf961d163adb  Single-precision floating-point format\n",
      "24933538  557dc343d19faf961d163adb                                     NaN\n",
      "24933539  557dc343d19faf961d163adb                          Floating point\n",
      "24933540  557dc343d19faf961d163adb                               Algorithm\n",
      "24933541  557dc343d19faf961d163adb                              Arithmetic\n",
      "24933542  557dc343d19faf961d163adb                          Multiplication\n",
      "24933543  557dc343d19faf961d163adb                               Logarithm\n",
      "24933544  557dc343d19faf961d163adb                   Saturation arithmetic\n",
      "24933545  557dc343d19faf961d163adb            Word (computer architecture)\n",
      "24933546  557dc343d19faf961d163adb                     IEEE floating point\n",
      "24933547  557dc343d19faf961d163adb                             Mathematics\n",
      "                        article_id                   fos\n",
      "26986190  558c099ee4b0cfb70a1b4625  Arithmetic underflow\n",
      "26986191  558c099ee4b0cfb70a1b4625       Denormal number\n",
      "26986192  558c099ee4b0cfb70a1b4625                   NaN\n",
      "26986193  558c099ee4b0cfb70a1b4625      Computer science\n",
      "26986194  558c099ee4b0cfb70a1b4625        Floating point\n",
      "26986195  558c099ee4b0cfb70a1b4625              Quotient\n",
      "26986196  558c099ee4b0cfb70a1b4625             Algorithm\n",
      "26986197  558c099ee4b0cfb70a1b4625             Minifloat\n",
      "26986198  558c099ee4b0cfb70a1b4625   IEEE floating point\n",
      "26986199  558c099ee4b0cfb70a1b4625       Newton's method\n",
      "                        article_id                       fos\n",
      "30361660  5736969d6e3b12023e5a5d01      Discrete mathematics\n",
      "30361661  5736969d6e3b12023e5a5d01  Parameterized complexity\n",
      "30361662  5736969d6e3b12023e5a5d01                       NaN\n",
      "30361663  5736969d6e3b12023e5a5d01            Floating point\n",
      "30361664  5736969d6e3b12023e5a5d01               Correctness\n",
      "30361665  5736969d6e3b12023e5a5d01                  Rounding\n",
      "30361666  5736969d6e3b12023e5a5d01                 Minifloat\n",
      "30361667  5736969d6e3b12023e5a5d01               Fixed point\n",
      "30361668  5736969d6e3b12023e5a5d01               Mathematics\n",
      "30361669  5736969d6e3b12023e5a5d01       IEEE floating point\n",
      "                        article_id                           fos\n",
      "33312744  58d82fcbd649053542fd689e        Computer number format\n",
      "33312745  58d82fcbd649053542fd689e     Extended real number line\n",
      "33312746  58d82fcbd649053542fd689e                           NaN\n",
      "33312747  58d82fcbd649053542fd689e              Computer science\n",
      "33312748  58d82fcbd649053542fd689e                    Arithmetic\n",
      "33312749  58d82fcbd649053542fd689e  Theoretical computer science\n",
      "33312750  58d82fcbd649053542fd689e                 IEEE 754-1985\n",
      "33312751  58d82fcbd649053542fd689e                          Unum\n",
      "33312752  58d82fcbd649053542fd689e           Interval arithmetic\n",
      "33312753  58d82fcbd649053542fd689e           IEEE floating point\n"
     ]
    }
   ],
   "source": [
    "for article in article_nan:\n",
    "    print(data_fos[data_fos.article_id == article])"
   ]
  },
  {
   "cell_type": "code",
   "execution_count": 9,
   "id": "d1afb65f",
   "metadata": {},
   "outputs": [],
   "source": [
    "data_fos.dropna(inplace=True)"
   ]
  },
  {
   "cell_type": "code",
   "execution_count": 12,
   "id": "75854b91",
   "metadata": {},
   "outputs": [],
   "source": [
    "fos_popularity = data_fos.groupby('fos').count()"
   ]
  },
  {
   "cell_type": "code",
   "execution_count": 13,
   "id": "4f4c8441",
   "metadata": {},
   "outputs": [
    {
     "data": {
      "text/html": [
       "<div>\n",
       "<style scoped>\n",
       "    .dataframe tbody tr th:only-of-type {\n",
       "        vertical-align: middle;\n",
       "    }\n",
       "\n",
       "    .dataframe tbody tr th {\n",
       "        vertical-align: top;\n",
       "    }\n",
       "\n",
       "    .dataframe thead th {\n",
       "        text-align: right;\n",
       "    }\n",
       "</style>\n",
       "<table border=\"1\" class=\"dataframe\">\n",
       "  <thead>\n",
       "    <tr style=\"text-align: right;\">\n",
       "      <th></th>\n",
       "      <th>article_id</th>\n",
       "    </tr>\n",
       "    <tr>\n",
       "      <th>fos</th>\n",
       "      <th></th>\n",
       "    </tr>\n",
       "  </thead>\n",
       "  <tbody>\n",
       "    <tr>\n",
       "      <th>#P-complete</th>\n",
       "      <td>96</td>\n",
       "    </tr>\n",
       "    <tr>\n",
       "      <th>#SAT</th>\n",
       "      <td>407</td>\n",
       "    </tr>\n",
       "    <tr>\n",
       "      <th>% abnormal forms</th>\n",
       "      <td>1</td>\n",
       "    </tr>\n",
       "    <tr>\n",
       "      <th>% area reduction</th>\n",
       "      <td>191</td>\n",
       "    </tr>\n",
       "    <tr>\n",
       "      <th>% diameter reduction</th>\n",
       "      <td>7</td>\n",
       "    </tr>\n",
       "    <tr>\n",
       "      <th>...</th>\n",
       "      <td>...</td>\n",
       "    </tr>\n",
       "    <tr>\n",
       "      <th>μClinux</th>\n",
       "      <td>9</td>\n",
       "    </tr>\n",
       "    <tr>\n",
       "      <th>σ-compact space</th>\n",
       "      <td>1</td>\n",
       "    </tr>\n",
       "    <tr>\n",
       "      <th>σ-finite measure</th>\n",
       "      <td>64</td>\n",
       "    </tr>\n",
       "    <tr>\n",
       "      <th>ω conotoxin gvia</th>\n",
       "      <td>1</td>\n",
       "    </tr>\n",
       "    <tr>\n",
       "      <th>ω-automaton</th>\n",
       "      <td>1594</td>\n",
       "    </tr>\n",
       "  </tbody>\n",
       "</table>\n",
       "<p>166002 rows × 1 columns</p>\n",
       "</div>"
      ],
      "text/plain": [
       "                      article_id\n",
       "fos                             \n",
       "#P-complete                   96\n",
       "#SAT                         407\n",
       "% abnormal forms               1\n",
       "% area reduction             191\n",
       "% diameter reduction           7\n",
       "...                          ...\n",
       "μClinux                        9\n",
       "σ-compact space                1\n",
       "σ-finite measure              64\n",
       "ω conotoxin gvia               1\n",
       "ω-automaton                 1594\n",
       "\n",
       "[166002 rows x 1 columns]"
      ]
     },
     "execution_count": 13,
     "metadata": {},
     "output_type": "execute_result"
    }
   ],
   "source": [
    "fos_popularity"
   ]
  },
  {
   "cell_type": "code",
   "execution_count": 14,
   "id": "fc4b3711",
   "metadata": {},
   "outputs": [
    {
     "name": "stdout",
     "output_type": "stream",
     "text": [
      "Number of fos with one article id: 30881 (18.6%)\n"
     ]
    }
   ],
   "source": [
    "rare_fos = len(fos_popularity[fos_popularity.values == 1])\n",
    "print(f'Number of fos with one article id: {rare_fos} ({round(rare_fos/data_fos.fos.unique().shape[0] * 100,2)}%)')"
   ]
  },
  {
   "cell_type": "code",
   "execution_count": 17,
   "id": "d127a136",
   "metadata": {},
   "outputs": [
    {
     "data": {
      "text/plain": [
       "(array([6.3457e+04, 4.0830e+04, 3.3474e+04, 1.7004e+04, 7.7160e+03,\n",
       "        2.7730e+03, 6.3100e+02, 1.0000e+02, 1.4000e+01, 3.0000e+00]),\n",
       " array([ 0.       ,  1.4963746,  2.9927492,  4.4891238,  5.9854984,\n",
       "         7.481873 ,  8.9782476, 10.4746222, 11.9709968, 13.4673714,\n",
       "        14.963746 ]),\n",
       " <BarContainer object of 10 artists>)"
      ]
     },
     "execution_count": 17,
     "metadata": {},
     "output_type": "execute_result"
    },
    {
     "data": {
      "image/png": "[encoded data removed]",
      "text/plain": [
       "<Figure size 432x288 with 1 Axes>"
      ]
     },
     "metadata": {
      "needs_background": "light"
     },
     "output_type": "display_data"
    }
   ],
   "source": [
    "plt.title(\"Число статей относящихся к данному fos\")\n",
    "plt.xlabel(\"Логарифм числа статей с данным fos\")\n",
    "plt.ylabel(\"Число fos\")\n",
    "plt.hist(fos_popularity.article_id.apply(math.log), bins=10)"
   ]
  },
  {
   "cell_type": "code",
   "execution_count": null,
   "id": "5bdd3b90",
   "metadata": {},
   "outputs": [],
   "source": []
  }
 ],
 "metadata": {
  "kernelspec": {
   "display_name": "Python 3 (ipykernel)",
   "language": "python",
   "name": "python3"
  },
  "language_info": {
   "codemirror_mode": {
    "name": "ipython",
    "version": 3
   },
   "file_extension": ".py",
   "mimetype": "text/x-python",
   "name": "python",
   "nbconvert_exporter": "python",
   "pygments_lexer": "ipython3",
   "version": "3.10.6"
  }
 },
 "nbformat": 4,
 "nbformat_minor": 5
}
