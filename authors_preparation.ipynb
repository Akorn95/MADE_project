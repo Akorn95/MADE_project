{
 "cells": [
  {
   "cell_type": "code",
   "execution_count": 123,
   "id": "140a516f",
   "metadata": {},
   "outputs": [],
   "source": [
    "import pandas as pd\n",
    "import seaborn as sns\n",
    "import numpy as np\n",
    "import matplotlib.pyplot as plt\n",
    "sns.set(rc={'figure.figsize':(20.7,8.27)})\n",
    "import re\n",
    "from transliterate import translit\n",
    "import unidecode\n",
    "import json"
   ]
  },
  {
   "cell_type": "code",
   "execution_count": 44,
   "id": "6f32aaf8",
   "metadata": {},
   "outputs": [
    {
     "name": "stdout",
     "output_type": "stream",
     "text": [
      "Collecting unidecode\n",
      "  Downloading Unidecode-1.3.6-py3-none-any.whl (235 kB)\n",
      "     ------------------------------------ 235.9/235.9 kB 307.0 kB/s eta 0:00:00\n",
      "Installing collected packages: unidecode\n",
      "Successfully installed unidecode-1.3.6\n"
     ]
    },
    {
     "name": "stderr",
     "output_type": "stream",
     "text": [
      "\n",
      "[notice] A new release of pip available: 22.2.1 -> 22.2.2\n",
      "[notice] To update, run: python.exe -m pip install --upgrade pip\n"
     ]
    }
   ],
   "source": [
    "!pip install unidecode"
   ]
  },
  {
   "cell_type": "code",
   "execution_count": 2,
   "id": "6837186c",
   "metadata": {},
   "outputs": [
    {
     "data": {
      "text/html": [
       "<div>\n",
       "<style scoped>\n",
       "    .dataframe tbody tr th:only-of-type {\n",
       "        vertical-align: middle;\n",
       "    }\n",
       "\n",
       "    .dataframe tbody tr th {\n",
       "        vertical-align: top;\n",
       "    }\n",
       "\n",
       "    .dataframe thead th {\n",
       "        text-align: right;\n",
       "    }\n",
       "</style>\n",
       "<table border=\"1\" class=\"dataframe\">\n",
       "  <thead>\n",
       "    <tr style=\"text-align: right;\">\n",
       "      <th></th>\n",
       "      <th>_id</th>\n",
       "      <th>name</th>\n",
       "      <th>article_id</th>\n",
       "      <th>org</th>\n",
       "      <th>gid</th>\n",
       "      <th>oid</th>\n",
       "      <th>orgid</th>\n",
       "      <th>sid</th>\n",
       "      <th>email</th>\n",
       "      <th>orgs</th>\n",
       "      <th>orcid</th>\n",
       "      <th>bio</th>\n",
       "      <th>name_zh</th>\n",
       "      <th>org_zh</th>\n",
       "      <th>oid_zh</th>\n",
       "      <th>orgs_zh</th>\n",
       "      <th>position</th>\n",
       "      <th>avatar</th>\n",
       "      <th>homepage</th>\n",
       "    </tr>\n",
       "  </thead>\n",
       "  <tbody>\n",
       "    <tr>\n",
       "      <th>0</th>\n",
       "      <td>53f45728dabfaec09f209538</td>\n",
       "      <td>Peijuan Wang</td>\n",
       "      <td>53e99784b7602d9701f3e133</td>\n",
       "      <td>NaN</td>\n",
       "      <td>NaN</td>\n",
       "      <td>NaN</td>\n",
       "      <td>NaN</td>\n",
       "      <td>NaN</td>\n",
       "      <td>NaN</td>\n",
       "      <td>NaN</td>\n",
       "      <td>NaN</td>\n",
       "      <td>NaN</td>\n",
       "      <td>NaN</td>\n",
       "      <td>NaN</td>\n",
       "      <td>NaN</td>\n",
       "      <td>NaN</td>\n",
       "      <td>NaN</td>\n",
       "      <td>NaN</td>\n",
       "      <td>NaN</td>\n",
       "    </tr>\n",
       "    <tr>\n",
       "      <th>1</th>\n",
       "      <td>5601754345cedb3395e59457</td>\n",
       "      <td>Jiahua Zhang</td>\n",
       "      <td>53e99784b7602d9701f3e133</td>\n",
       "      <td>NaN</td>\n",
       "      <td>NaN</td>\n",
       "      <td>NaN</td>\n",
       "      <td>NaN</td>\n",
       "      <td>NaN</td>\n",
       "      <td>NaN</td>\n",
       "      <td>NaN</td>\n",
       "      <td>NaN</td>\n",
       "      <td>NaN</td>\n",
       "      <td>NaN</td>\n",
       "      <td>NaN</td>\n",
       "      <td>NaN</td>\n",
       "      <td>NaN</td>\n",
       "      <td>NaN</td>\n",
       "      <td>NaN</td>\n",
       "      <td>NaN</td>\n",
       "    </tr>\n",
       "    <tr>\n",
       "      <th>2</th>\n",
       "      <td>53f38438dabfae4b34a08928</td>\n",
       "      <td>Donghui Xie</td>\n",
       "      <td>53e99784b7602d9701f3e133</td>\n",
       "      <td>NaN</td>\n",
       "      <td>NaN</td>\n",
       "      <td>NaN</td>\n",
       "      <td>NaN</td>\n",
       "      <td>NaN</td>\n",
       "      <td>NaN</td>\n",
       "      <td>NaN</td>\n",
       "      <td>NaN</td>\n",
       "      <td>NaN</td>\n",
       "      <td>NaN</td>\n",
       "      <td>NaN</td>\n",
       "      <td>NaN</td>\n",
       "      <td>NaN</td>\n",
       "      <td>NaN</td>\n",
       "      <td>NaN</td>\n",
       "      <td>NaN</td>\n",
       "    </tr>\n",
       "    <tr>\n",
       "      <th>3</th>\n",
       "      <td>5601754345cedb3395e5945a</td>\n",
       "      <td>Yanyan Xu</td>\n",
       "      <td>53e99784b7602d9701f3e133</td>\n",
       "      <td>NaN</td>\n",
       "      <td>NaN</td>\n",
       "      <td>NaN</td>\n",
       "      <td>NaN</td>\n",
       "      <td>NaN</td>\n",
       "      <td>NaN</td>\n",
       "      <td>NaN</td>\n",
       "      <td>NaN</td>\n",
       "      <td>NaN</td>\n",
       "      <td>NaN</td>\n",
       "      <td>NaN</td>\n",
       "      <td>NaN</td>\n",
       "      <td>NaN</td>\n",
       "      <td>NaN</td>\n",
       "      <td>NaN</td>\n",
       "      <td>NaN</td>\n",
       "    </tr>\n",
       "    <tr>\n",
       "      <th>4</th>\n",
       "      <td>53f43d25dabfaeecd6995149</td>\n",
       "      <td>Yun Xu</td>\n",
       "      <td>53e99784b7602d9701f3e133</td>\n",
       "      <td>NaN</td>\n",
       "      <td>NaN</td>\n",
       "      <td>NaN</td>\n",
       "      <td>NaN</td>\n",
       "      <td>NaN</td>\n",
       "      <td>NaN</td>\n",
       "      <td>NaN</td>\n",
       "      <td>NaN</td>\n",
       "      <td>NaN</td>\n",
       "      <td>NaN</td>\n",
       "      <td>NaN</td>\n",
       "      <td>NaN</td>\n",
       "      <td>NaN</td>\n",
       "      <td>NaN</td>\n",
       "      <td>NaN</td>\n",
       "      <td>NaN</td>\n",
       "    </tr>\n",
       "  </tbody>\n",
       "</table>\n",
       "</div>"
      ],
      "text/plain": [
       "                        _id          name                article_id  org  gid  \\\n",
       "0  53f45728dabfaec09f209538  Peijuan Wang  53e99784b7602d9701f3e133  NaN  NaN   \n",
       "1  5601754345cedb3395e59457  Jiahua Zhang  53e99784b7602d9701f3e133  NaN  NaN   \n",
       "2  53f38438dabfae4b34a08928   Donghui Xie  53e99784b7602d9701f3e133  NaN  NaN   \n",
       "3  5601754345cedb3395e5945a     Yanyan Xu  53e99784b7602d9701f3e133  NaN  NaN   \n",
       "4  53f43d25dabfaeecd6995149        Yun Xu  53e99784b7602d9701f3e133  NaN  NaN   \n",
       "\n",
       "   oid orgid  sid email orgs orcid  bio name_zh org_zh oid_zh orgs_zh  \\\n",
       "0  NaN   NaN  NaN   NaN  NaN   NaN  NaN     NaN    NaN    NaN     NaN   \n",
       "1  NaN   NaN  NaN   NaN  NaN   NaN  NaN     NaN    NaN    NaN     NaN   \n",
       "2  NaN   NaN  NaN   NaN  NaN   NaN  NaN     NaN    NaN    NaN     NaN   \n",
       "3  NaN   NaN  NaN   NaN  NaN   NaN  NaN     NaN    NaN    NaN     NaN   \n",
       "4  NaN   NaN  NaN   NaN  NaN   NaN  NaN     NaN    NaN    NaN     NaN   \n",
       "\n",
       "   position avatar homepage  \n",
       "0       NaN    NaN      NaN  \n",
       "1       NaN    NaN      NaN  \n",
       "2       NaN    NaN      NaN  \n",
       "3       NaN    NaN      NaN  \n",
       "4       NaN    NaN      NaN  "
      ]
     },
     "execution_count": 2,
     "metadata": {},
     "output_type": "execute_result"
    }
   ],
   "source": [
    "data = pd.read_csv(\"authors_raw.csv\", low_memory=False)\n",
    "data.head()"
   ]
  },
  {
   "cell_type": "markdown",
   "id": "da57a53e",
   "metadata": {},
   "source": [
    "# map_article_authors"
   ]
  },
  {
   "cell_type": "code",
   "execution_count": 3,
   "id": "fbc4f86b",
   "metadata": {},
   "outputs": [],
   "source": [
    "map_article_authors=data[['article_id', '_id']]"
   ]
  },
  {
   "cell_type": "code",
   "execution_count": 4,
   "id": "43daad9c",
   "metadata": {},
   "outputs": [
    {
     "name": "stderr",
     "output_type": "stream",
     "text": [
      "C:\\Users\\mrnik\\AppData\\Local\\Temp\\ipykernel_15596\\3184180875.py:1: SettingWithCopyWarning: \n",
      "A value is trying to be set on a copy of a slice from a DataFrame\n",
      "\n",
      "See the caveats in the documentation: https://pandas.pydata.org/pandas-docs/stable/user_guide/indexing.html#returning-a-view-versus-a-copy\n",
      "  map_article_authors.rename(columns={\"_id\": \"id_author\", \"article_id\": \"id_article\"}, inplace=True)\n"
     ]
    }
   ],
   "source": [
    "map_article_authors.rename(columns={\"_id\": \"id_author\", \"article_id\": \"id_article\"}, inplace=True)"
   ]
  },
  {
   "cell_type": "code",
   "execution_count": 6,
   "id": "32ba4c6e",
   "metadata": {},
   "outputs": [
    {
     "name": "stderr",
     "output_type": "stream",
     "text": [
      "C:\\Users\\mrnik\\AppData\\Local\\Temp\\ipykernel_15596\\3186635343.py:1: SettingWithCopyWarning: \n",
      "A value is trying to be set on a copy of a slice from a DataFrame\n",
      "\n",
      "See the caveats in the documentation: https://pandas.pydata.org/pandas-docs/stable/user_guide/indexing.html#returning-a-view-versus-a-copy\n",
      "  map_article_authors.drop_duplicates(inplace=True)\n"
     ]
    }
   ],
   "source": [
    "map_article_authors.drop_duplicates(inplace=True)"
   ]
  },
  {
   "cell_type": "code",
   "execution_count": 82,
   "id": "6a0f9446",
   "metadata": {},
   "outputs": [
    {
     "name": "stderr",
     "output_type": "stream",
     "text": [
      "C:\\Users\\mrnik\\AppData\\Local\\Temp\\ipykernel_15596\\2343487446.py:1: SettingWithCopyWarning: \n",
      "A value is trying to be set on a copy of a slice from a DataFrame\n",
      "\n",
      "See the caveats in the documentation: https://pandas.pydata.org/pandas-docs/stable/user_guide/indexing.html#returning-a-view-versus-a-copy\n",
      "  map_article_authors.dropna(how='any', inplace=True)\n"
     ]
    }
   ],
   "source": [
    "map_article_authors.dropna(how='any', inplace=True)"
   ]
  },
  {
   "cell_type": "code",
   "execution_count": 85,
   "id": "4cc6dd60",
   "metadata": {},
   "outputs": [],
   "source": [
    "map_article_authors.to_csv('db_map_article_authors.csv', index=False)"
   ]
  },
  {
   "cell_type": "markdown",
   "id": "55ffeff0",
   "metadata": {},
   "source": [
    "# authors"
   ]
  },
  {
   "cell_type": "code",
   "execution_count": 47,
   "id": "baef2d3b",
   "metadata": {},
   "outputs": [],
   "source": [
    "authors=data[['_id', 'name']]"
   ]
  },
  {
   "cell_type": "code",
   "execution_count": 48,
   "id": "05e50f7c",
   "metadata": {},
   "outputs": [
    {
     "name": "stderr",
     "output_type": "stream",
     "text": [
      "C:\\Users\\mrnik\\AppData\\Local\\Temp\\ipykernel_15596\\1502209958.py:1: SettingWithCopyWarning: \n",
      "A value is trying to be set on a copy of a slice from a DataFrame\n",
      "\n",
      "See the caveats in the documentation: https://pandas.pydata.org/pandas-docs/stable/user_guide/indexing.html#returning-a-view-versus-a-copy\n",
      "  authors.rename(columns={\"_id\": \"id_author\"}, inplace=True)\n"
     ]
    }
   ],
   "source": [
    "authors.rename(columns={\"_id\": \"id_author\"}, inplace=True)"
   ]
  },
  {
   "cell_type": "code",
   "execution_count": 49,
   "id": "7e4534ce",
   "metadata": {},
   "outputs": [],
   "source": [
    "\n",
    "reg = re.compile('[^a-zA-Z ]')"
   ]
  },
  {
   "cell_type": "code",
   "execution_count": 50,
   "id": "53152aaa",
   "metadata": {},
   "outputs": [
    {
     "name": "stderr",
     "output_type": "stream",
     "text": [
      "C:\\Users\\mrnik\\AppData\\Local\\Temp\\ipykernel_15596\\1159549131.py:1: SettingWithCopyWarning: \n",
      "A value is trying to be set on a copy of a slice from a DataFrame.\n",
      "Try using .loc[row_indexer,col_indexer] = value instead\n",
      "\n",
      "See the caveats in the documentation: https://pandas.pydata.org/pandas-docs/stable/user_guide/indexing.html#returning-a-view-versus-a-copy\n",
      "  authors['name']=authors['name'].apply(lambda x: ' '.join(reg.sub('', unidecode.unidecode(str(x))).lower().strip().split()))\n"
     ]
    }
   ],
   "source": [
    "authors['name']=authors['name'].apply(lambda x: ' '.join(reg.sub('', unidecode.unidecode(str(x))).lower().strip().split()))"
   ]
  },
  {
   "cell_type": "code",
   "execution_count": 63,
   "id": "c76989fb",
   "metadata": {},
   "outputs": [
    {
     "name": "stderr",
     "output_type": "stream",
     "text": [
      "C:\\Users\\mrnik\\AppData\\Local\\Temp\\ipykernel_15596\\3395024182.py:1: SettingWithCopyWarning: \n",
      "A value is trying to be set on a copy of a slice from a DataFrame\n",
      "\n",
      "See the caveats in the documentation: https://pandas.pydata.org/pandas-docs/stable/user_guide/indexing.html#returning-a-view-versus-a-copy\n",
      "  authors.sort_values('name', ascending=False, key=lambda x: x.str.len() , inplace=True)\n"
     ]
    }
   ],
   "source": [
    "authors.sort_values('name', ascending=False, key=lambda x: x.str.len() , inplace=True)"
   ]
  },
  {
   "cell_type": "code",
   "execution_count": 64,
   "id": "bf32c920",
   "metadata": {},
   "outputs": [
    {
     "name": "stderr",
     "output_type": "stream",
     "text": [
      "C:\\Users\\mrnik\\AppData\\Local\\Temp\\ipykernel_15596\\3285357237.py:1: SettingWithCopyWarning: \n",
      "A value is trying to be set on a copy of a slice from a DataFrame\n",
      "\n",
      "See the caveats in the documentation: https://pandas.pydata.org/pandas-docs/stable/user_guide/indexing.html#returning-a-view-versus-a-copy\n",
      "  authors.drop_duplicates('id_author', inplace=True)\n"
     ]
    }
   ],
   "source": [
    "authors.drop_duplicates('id_author', inplace=True)"
   ]
  },
  {
   "cell_type": "code",
   "execution_count": 69,
   "id": "f772716d",
   "metadata": {},
   "outputs": [
    {
     "name": "stderr",
     "output_type": "stream",
     "text": [
      "C:\\Users\\mrnik\\AppData\\Local\\Temp\\ipykernel_15596\\1894762027.py:1: SettingWithCopyWarning: \n",
      "A value is trying to be set on a copy of a slice from a DataFrame\n",
      "\n",
      "See the caveats in the documentation: https://pandas.pydata.org/pandas-docs/stable/user_guide/indexing.html#returning-a-view-versus-a-copy\n",
      "  authors.dropna(how='any', inplace=True)\n"
     ]
    }
   ],
   "source": [
    "authors.dropna(how='any', inplace=True)"
   ]
  },
  {
   "cell_type": "code",
   "execution_count": 76,
   "id": "29ec8d6c",
   "metadata": {},
   "outputs": [],
   "source": [
    "authors=authors[authors['name'].str.len()>0]"
   ]
  },
  {
   "cell_type": "code",
   "execution_count": 79,
   "id": "a500a1d0",
   "metadata": {},
   "outputs": [],
   "source": [
    "authors.to_csv('db_authors.csv', index=False)"
   ]
  },
  {
   "cell_type": "markdown",
   "id": "9248cd14",
   "metadata": {},
   "source": [
    "# orgs"
   ]
  },
  {
   "cell_type": "code",
   "execution_count": 193,
   "id": "831a1e42",
   "metadata": {},
   "outputs": [
    {
     "name": "stderr",
     "output_type": "stream",
     "text": [
      "C:\\Users\\mrnik\\AppData\\Local\\Temp\\ipykernel_15596\\751168700.py:2: SettingWithCopyWarning: \n",
      "A value is trying to be set on a copy of a slice from a DataFrame\n",
      "\n",
      "See the caveats in the documentation: https://pandas.pydata.org/pandas-docs/stable/user_guide/indexing.html#returning-a-view-versus-a-copy\n",
      "  orgs.rename(columns={\"_id\": \"id_author\"}, inplace=True)\n"
     ]
    }
   ],
   "source": [
    "orgs=data[['_id', 'org']]\n",
    "orgs.rename(columns={\"_id\": \"id_author\"}, inplace=True)"
   ]
  },
  {
   "cell_type": "code",
   "execution_count": 194,
   "id": "9319fa0a",
   "metadata": {},
   "outputs": [],
   "source": [
    "orgs=orgs[~orgs['id_author'].isna()]\n",
    "orgs=orgs[~orgs['org'].isna()]"
   ]
  },
  {
   "cell_type": "code",
   "execution_count": 195,
   "id": "0c61e85f",
   "metadata": {},
   "outputs": [
    {
     "name": "stderr",
     "output_type": "stream",
     "text": [
      "C:\\Users\\mrnik\\AppData\\Local\\Temp\\ipykernel_15596\\2529616295.py:2: SettingWithCopyWarning: \n",
      "A value is trying to be set on a copy of a slice from a DataFrame\n",
      "\n",
      "See the caveats in the documentation: https://pandas.pydata.org/pandas-docs/stable/user_guide/indexing.html#returning-a-view-versus-a-copy\n",
      "  orgs_2.rename(columns={\"_id\": \"id_author\"}, inplace=True)\n"
     ]
    }
   ],
   "source": [
    "orgs_2=data[['_id', 'orgs']]\n",
    "orgs_2.rename(columns={\"_id\": \"id_author\"}, inplace=True)"
   ]
  },
  {
   "cell_type": "code",
   "execution_count": 98,
   "id": "5a890b03",
   "metadata": {},
   "outputs": [],
   "source": [
    "orgs_2=orgs_2[~orgs_2['id_author'].isna()]\n",
    "orgs_2=orgs_2[~orgs_2['orgs'].isna()]"
   ]
  },
  {
   "cell_type": "code",
   "execution_count": 188,
   "id": "66ee88b6",
   "metadata": {},
   "outputs": [],
   "source": [
    "res=[]\n",
    "for i in range(len(orgs_2)):\n",
    "    id_author=orgs_2.iloc[i]['id_author']\n",
    "    q='{\"orgs\" : ' +orgs_2.iloc[i]['orgs'] + \"}\"\n",
    "    try:\n",
    "        arr=json.loads(q.replace(\"\\'\", \"\\\"\"))\n",
    "        for k in arr['orgs']:        \n",
    "            res.append((id_author, k))\n",
    "    except:\n",
    "        pass\n",
    "    "
   ]
  },
  {
   "cell_type": "code",
   "execution_count": 196,
   "id": "bcd99271",
   "metadata": {},
   "outputs": [
    {
     "name": "stderr",
     "output_type": "stream",
     "text": [
      "C:\\Users\\mrnik\\AppData\\Local\\Temp\\ipykernel_15596\\3345660897.py:1: FutureWarning: The frame.append method is deprecated and will be removed from pandas in a future version. Use pandas.concat instead.\n",
      "  orgs.append(pd.DataFrame(res, columns=['id_author', 'org']))\n"
     ]
    },
    {
     "data": {
      "text/html": [
       "<div>\n",
       "<style scoped>\n",
       "    .dataframe tbody tr th:only-of-type {\n",
       "        vertical-align: middle;\n",
       "    }\n",
       "\n",
       "    .dataframe tbody tr th {\n",
       "        vertical-align: top;\n",
       "    }\n",
       "\n",
       "    .dataframe thead th {\n",
       "        text-align: right;\n",
       "    }\n",
       "</style>\n",
       "<table border=\"1\" class=\"dataframe\">\n",
       "  <thead>\n",
       "    <tr style=\"text-align: right;\">\n",
       "      <th></th>\n",
       "      <th>id_author</th>\n",
       "      <th>org</th>\n",
       "    </tr>\n",
       "  </thead>\n",
       "  <tbody>\n",
       "    <tr>\n",
       "      <th>10</th>\n",
       "      <td>53f46946dabfaec09f24b4ed</td>\n",
       "      <td>Miguel Palma Studio</td>\n",
       "    </tr>\n",
       "    <tr>\n",
       "      <th>11</th>\n",
       "      <td>53f43d95dabfaedf435b63fa</td>\n",
       "      <td>Fox Studios Australia, Moore Park, New South W...</td>\n",
       "    </tr>\n",
       "    <tr>\n",
       "      <th>20</th>\n",
       "      <td>53f4312edabfaee02ac9110a</td>\n",
       "      <td>Wroclaw, Poland</td>\n",
       "    </tr>\n",
       "    <tr>\n",
       "      <th>31</th>\n",
       "      <td>53f44a4adabfaedd74dfe5c0</td>\n",
       "      <td>Filmakademie Baden-Württemberg, Ludwigsburg, G...</td>\n",
       "    </tr>\n",
       "    <tr>\n",
       "      <th>32</th>\n",
       "      <td>53f42fd0dabfaedd74d553b0</td>\n",
       "      <td>Iwano Design, Nagakute Aichi, Japan</td>\n",
       "    </tr>\n",
       "    <tr>\n",
       "      <th>...</th>\n",
       "      <td>...</td>\n",
       "      <td>...</td>\n",
       "    </tr>\n",
       "    <tr>\n",
       "      <th>4630302</th>\n",
       "      <td>53f43a27dabfaeb22f4940f4</td>\n",
       "      <td>King Abdullah Univ Sci &amp; Technol KAUST, Extrem...</td>\n",
       "    </tr>\n",
       "    <tr>\n",
       "      <th>4630303</th>\n",
       "      <td>542cb361dabfae4bbcf69ae9</td>\n",
       "      <td>Shandong Univ Technol, Sch Math &amp; Stat, 266 Xi...</td>\n",
       "    </tr>\n",
       "    <tr>\n",
       "      <th>4630304</th>\n",
       "      <td>542a3356dabfae5848aa91d1</td>\n",
       "      <td>Shandong Acad Social Sci, Inst Rural Dev, 56 S...</td>\n",
       "    </tr>\n",
       "    <tr>\n",
       "      <th>4630305</th>\n",
       "      <td>542c2d70dabfae2b4e1eb871</td>\n",
       "      <td>China Univ Petr, Coll Comp Sci &amp; Technol, 66 C...</td>\n",
       "    </tr>\n",
       "    <tr>\n",
       "      <th>4630306</th>\n",
       "      <td>5447fc6adabfae87b7dbbd13</td>\n",
       "      <td>[Carnegie Mellon University, Pittsburgh, USA]</td>\n",
       "    </tr>\n",
       "  </tbody>\n",
       "</table>\n",
       "<p>12360335 rows × 2 columns</p>\n",
       "</div>"
      ],
      "text/plain": [
       "                        id_author  \\\n",
       "10       53f46946dabfaec09f24b4ed   \n",
       "11       53f43d95dabfaedf435b63fa   \n",
       "20       53f4312edabfaee02ac9110a   \n",
       "31       53f44a4adabfaedd74dfe5c0   \n",
       "32       53f42fd0dabfaedd74d553b0   \n",
       "...                           ...   \n",
       "4630302  53f43a27dabfaeb22f4940f4   \n",
       "4630303  542cb361dabfae4bbcf69ae9   \n",
       "4630304  542a3356dabfae5848aa91d1   \n",
       "4630305  542c2d70dabfae2b4e1eb871   \n",
       "4630306  5447fc6adabfae87b7dbbd13   \n",
       "\n",
       "                                                       org  \n",
       "10                                     Miguel Palma Studio  \n",
       "11       Fox Studios Australia, Moore Park, New South W...  \n",
       "20                                         Wroclaw, Poland  \n",
       "31       Filmakademie Baden-Württemberg, Ludwigsburg, G...  \n",
       "32                     Iwano Design, Nagakute Aichi, Japan  \n",
       "...                                                    ...  \n",
       "4630302  King Abdullah Univ Sci & Technol KAUST, Extrem...  \n",
       "4630303  Shandong Univ Technol, Sch Math & Stat, 266 Xi...  \n",
       "4630304  Shandong Acad Social Sci, Inst Rural Dev, 56 S...  \n",
       "4630305  China Univ Petr, Coll Comp Sci & Technol, 66 C...  \n",
       "4630306      [Carnegie Mellon University, Pittsburgh, USA]  \n",
       "\n",
       "[12360335 rows x 2 columns]"
      ]
     },
     "execution_count": 196,
     "metadata": {},
     "output_type": "execute_result"
    }
   ],
   "source": [
    "orgs.append(pd.DataFrame(res, columns=['id_author', 'org']))"
   ]
  },
  {
   "cell_type": "code",
   "execution_count": 197,
   "id": "c84f3098",
   "metadata": {},
   "outputs": [],
   "source": [
    "orgs.drop_duplicates(inplace=True)"
   ]
  },
  {
   "cell_type": "code",
   "execution_count": 201,
   "id": "e74a828b",
   "metadata": {},
   "outputs": [],
   "source": [
    "orgs.to_csv('db_orgs.csv', index=False)"
   ]
  },
  {
   "cell_type": "code",
   "execution_count": null,
   "id": "16e8b3f9",
   "metadata": {},
   "outputs": [],
   "source": []
  }
 ],
 "metadata": {
  "kernelspec": {
   "display_name": "Python 3 (ipykernel)",
   "language": "python",
   "name": "python3"
  },
  "language_info": {
   "codemirror_mode": {
    "name": "ipython",
    "version": 3
   },
   "file_extension": ".py",
   "mimetype": "text/x-python",
   "name": "python",
   "nbconvert_exporter": "python",
   "pygments_lexer": "ipython3",
   "version": "3.10.6"
  }
 },
 "nbformat": 4,
 "nbformat_minor": 5
}
