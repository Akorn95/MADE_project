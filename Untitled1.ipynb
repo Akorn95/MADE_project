{
 "cells": [
  {
   "cell_type": "code",
   "execution_count": 1,
   "id": "48410fb7",
   "metadata": {},
   "outputs": [],
   "source": [
    "import json\n",
    "\n",
    "\n",
    "def parse_json(json_str: str, required_fields = None, keywords = None, *, keyword_callback):\n",
    "    json_doc = json.loads(json_str)\n",
    "    for field in required_fields:\n",
    "        if json_doc.get(field):\n",
    "            item = json_doc.get(field)\n",
    "            for word in keywords:\n",
    "                if word in item.split():\n",
    "                    keyword_callback(word)\n",
    "\n",
    "\n",
    "# test_1\n",
    "json_str = '{\"key1\": \"Word1 word2\", \"key2\": \"word2 word3\"}'\n",
    "required_fields = [\"key1\"]\n",
    "keywords = [\"word2\"]\n",
    "tmp = []\n",
    "parse_json(json_str, required_fields, keywords, keyword_callback = tmp.append)\n",
    "assert tmp == [\"word2\"]\n",
    "\n",
    "# test_2\n",
    "json_str = '{\"key1\": \"Word1\", \"key2\": \"word2 word3\"}'\n",
    "required_fields = [\"key1\"]\n",
    "keywords = [\"word2\"]\n",
    "tmp = []\n",
    "parse_json(json_str, required_fields, keywords, keyword_callback = tmp.append)\n",
    "assert tmp == []\n",
    "\n",
    "# test_3\n",
    "json_str = '{\"key1\": \"Word1 word2\", \"key2\": \"word2 word3\"}'\n",
    "required_fields = [\"key1\", \"key2\"]\n",
    "keywords = [\"word2\"]\n",
    "tmp = []\n",
    "parse_json(json_str, required_fields, keywords, keyword_callback = tmp.append)\n",
    "assert tmp == [\"word2\", \"word2\"]\n",
    "\n",
    "# test_3.5\n",
    "json_str = '{\"key1\": \"Word1 word2\", \"key2\": \"word2 word3\"}'\n",
    "required_fields = [\"key1\", \"key2\"]\n",
    "keywords = [\"word2\", \"word3\"]\n",
    "tmp = []\n",
    "parse_json(json_str, required_fields, keywords, keyword_callback = tmp.append)\n",
    "assert tmp == [\"word2\", \"word2\", \"word3\" ]\n",
    "\n",
    "\n",
    "# test_4\n",
    "json_str = '{}'\n",
    "required_fields = [\"key1\", \"key2\"]\n",
    "keywords = [\"word2\"]\n",
    "tmp = []\n",
    "parse_json(json_str, required_fields, keywords, keyword_callback = tmp.append)\n",
    "assert tmp == []\n",
    "\n",
    "\n",
    "# test_5\n",
    "json_str = '{\"key1\": \"Word1 word2\", \"key2\": \"word2 word3\"}'\n",
    "required_fields = []\n",
    "keywords = [\"word2\"]\n",
    "tmp = []\n",
    "parse_json(json_str, required_fields, keywords, keyword_callback = tmp.append)\n",
    "assert tmp == []\n",
    "\n",
    "\n",
    "# test_6\n",
    "json_str = '{\"key1\": \"Word1 word2\", \"key2\": \"word2 word3\"}'\n",
    "required_fields = [\"key1\", \"key2\"]\n",
    "keywords = []\n",
    "tmp = []\n",
    "parse_json(json_str, required_fields, keywords, keyword_callback = tmp.append)\n",
    "assert tmp == []\n",
    "\n",
    "# test_7\n",
    "json_str = '{\"key1\": \"Word1 word2 word2_2\", \"key2\": \"word2 word3\"}'\n",
    "required_fields = [\"key1\"]\n",
    "keywords = [\"word2\"]\n",
    "tmp = []\n",
    "parse_json(json_str, required_fields, keywords, keyword_callback = tmp.append)\n",
    "assert tmp == [\"word2\"]"
   ]
  },
  {
   "cell_type": "code",
   "execution_count": 12,
   "id": "427e5870",
   "metadata": {},
   "outputs": [
    {
     "data": {
      "text/plain": [
       "['word2']"
      ]
     },
     "execution_count": 12,
     "metadata": {},
     "output_type": "execute_result"
    }
   ],
   "source": [
    "tmp"
   ]
  },
  {
   "cell_type": "code",
   "execution_count": 8,
   "id": "dd956de7",
   "metadata": {},
   "outputs": [],
   "source": [
    "json_str = '{\"key1\": \"Word1 word2\", \"key2\": \"word2 word3\"}'\n",
    "required_fields = [\"key1\"]\n",
    "keywords = [\"word2\"]\n",
    "tmp=[]\n",
    "parse_json(json_str, required_fields, keywords, keyword_callback=tmp.append)\n",
    "assert tmp==['word2']"
   ]
  },
  {
   "cell_type": "code",
   "execution_count": 59,
   "id": "f9b4b73e",
   "metadata": {
    "scrolled": true
   },
   "outputs": [
    {
     "name": "stdout",
     "output_type": "stream",
     "text": [
      "Среднее время выполнения функции foo = 2.00 сек за 1 опер.\n",
      "Среднее время выполнения функции foo = 2.00 сек за 2 опер.\n",
      "Среднее время выполнения функции foo = 2.01 сек за 3 опер.\n",
      "Среднее время выполнения функции boo = 1.01 сек за 1 опер.\n",
      "Среднее время выполнения функции boo = 1.01 сек за 2 опер.\n"
     ]
    }
   ],
   "source": [
    "import time\n",
    "import numpy as np\n",
    "\n",
    "def mean(cnt):\n",
    "    diff=[]\n",
    "    def _mean(func):\n",
    "        def wrapper(*args, **kwargs):\n",
    "            start=time.time()\n",
    "            res=func(*args, **kwargs)\n",
    "            end=time.time()\n",
    "            nonlocal diff\n",
    "            diff.append(end-start)\n",
    "            if len(diff)>cnt:\n",
    "                diff=diff[1:]\n",
    "            print('Среднее время выполнения функции %s = %.2f сек за %d опер.' %(func.__name__, sum(diff)/len(diff), len(diff))) \n",
    "            statistic.append(sum(diff)/len(diff))\n",
    "            return res\n",
    "        return wrapper\n",
    "    return _mean\n",
    "\n",
    "    \n",
    "global statistic\n",
    "statistic=[]\n",
    "\n",
    "delay_sec=2\n",
    "\n",
    "@mean(10)\n",
    "def foo():\n",
    "    time.sleep(delay_sec)\n",
    "    pass\n",
    "\n",
    "@mean(2)\n",
    "def boo():\n",
    "    time.sleep(delay_sec/2)\n",
    "    pass\n",
    "\n",
    "for _ in range(3):\n",
    "    foo()\n",
    "    \n",
    "for _ in range(2):\n",
    "    boo()\n",
    "\n",
    "        \n",
    "assert len(statistic)==5\n",
    "expected=[2, 2, 2, 1, 1]\n",
    "for i in range(5):\n",
    "    np.isclose(expected[i], statistic[i], atol=0.2)\n",
    "\n",
    "    "
   ]
  },
  {
   "cell_type": "code",
   "execution_count": 21,
   "id": "84a47629",
   "metadata": {},
   "outputs": [],
   "source": [
    "x=[1,2]"
   ]
  },
  {
   "cell_type": "code",
   "execution_count": 24,
   "id": "32ecb2a7",
   "metadata": {},
   "outputs": [
    {
     "data": {
      "text/plain": [
       "3"
      ]
     },
     "execution_count": 24,
     "metadata": {},
     "output_type": "execute_result"
    }
   ],
   "source": [
    "sum(x)"
   ]
  },
  {
   "cell_type": "code",
   "execution_count": null,
   "id": "9e4a5522",
   "metadata": {},
   "outputs": [],
   "source": []
  }
 ],
 "metadata": {
  "kernelspec": {
   "display_name": "Python 3 (ipykernel)",
   "language": "python",
   "name": "python3"
  },
  "language_info": {
   "codemirror_mode": {
    "name": "ipython",
    "version": 3
   },
   "file_extension": ".py",
   "mimetype": "text/x-python",
   "name": "python",
   "nbconvert_exporter": "python",
   "pygments_lexer": "ipython3",
   "version": "3.10.6"
  }
 },
 "nbformat": 4,
 "nbformat_minor": 5
}
